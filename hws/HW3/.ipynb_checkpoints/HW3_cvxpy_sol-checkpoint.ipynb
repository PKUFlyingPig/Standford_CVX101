{
 "cells": [
  {
   "cell_type": "markdown",
   "metadata": {},
   "source": [
    "# HW3"
   ]
  },
  {
   "cell_type": "markdown",
   "metadata": {},
   "source": [
    "## Q2 - \"Hello World\" in CVX\n",
    "Use CVX to verify the optimal values in the two cases given in the exercise above titled \"A simple problem\""
   ]
  },
  {
   "cell_type": "code",
   "execution_count": 6,
   "metadata": {},
   "outputs": [],
   "source": [
    "import cvxpy as cp\n",
    "import numpy as np"
   ]
  },
  {
   "cell_type": "code",
   "execution_count": null,
   "metadata": {},
   "outputs": [],
   "source": [
    "# Construct the problem.\n",
    "x = cp.Variable(2)\n",
    "A = np.array([1,1])\n",
    "constraints = [1 <= np.array([2,1]).T * x\n",
    "               , np.array([1,3]).T * x >= 1\n",
    "               , x >=0]"
   ]
  },
  {
   "cell_type": "code",
   "execution_count": 13,
   "metadata": {},
   "outputs": [
    {
     "data": {
      "text/plain": [
       "0.6"
      ]
     },
     "execution_count": 13,
     "metadata": {},
     "output_type": "execute_result"
    }
   ],
   "source": [
    "objective = cp.Minimize(A.T*x)\n",
    "prob = cp.Problem(objective, constraints)\n",
    "# The optimal objective value is returned by `prob.solve()`.\n",
    "result = prob.solve()\n",
    "result"
   ]
  },
  {
   "cell_type": "code",
   "execution_count": 26,
   "metadata": {},
   "outputs": [
    {
     "data": {
      "text/plain": [
       "0.5"
      ]
     },
     "execution_count": 26,
     "metadata": {},
     "output_type": "execute_result"
    }
   ],
   "source": [
    "objective = cp.Minimize(x[0]**2 + 9*x[1]**2)\n",
    "prob = cp.Problem(objective, constraints)\n",
    "result = prob.solve()\n",
    "result"
   ]
  },
  {
   "cell_type": "markdown",
   "metadata": {},
   "source": [
    "## Q3 - Heuristic suboptimal solution for Boolean LP"
   ]
  },
  {
   "cell_type": "code",
   "execution_count": 312,
   "metadata": {},
   "outputs": [],
   "source": [
    "np.random.seed(0)\n",
    "n=100\n",
    "m=300\n",
    "A=np.random.rand(m,n);\n",
    "b=np.dot(A,np.ones((n,1)))/2\n",
    "c=-np.random.rand(n,1);"
   ]
  },
  {
   "cell_type": "code",
   "execution_count": 313,
   "metadata": {},
   "outputs": [
    {
     "data": {
      "text/plain": [
       "-34.415946443047154"
      ]
     },
     "execution_count": 313,
     "metadata": {},
     "output_type": "execute_result"
    }
   ],
   "source": [
    "# Construct the problem.\n",
    "x = cp.Variable(n)\n",
    "constraints = [(A*x)[:,None]<=b\n",
    "               , x >=0, x<=1]\n",
    "objective = cp.Minimize(c.T*x)\n",
    "prob = cp.Problem(objective, constraints)\n",
    "res = prob.solve()\n",
    "res"
   ]
  },
  {
   "cell_type": "code",
   "execution_count": 314,
   "metadata": {},
   "outputs": [
    {
     "name": "stdout",
     "output_type": "stream",
     "text": [
      "0.0\r",
      "0.01\r",
      "0.02\r",
      "0.03\r",
      "0.04\r",
      "0.05\r",
      "0.06\r",
      "0.07\r",
      "0.08\r",
      "0.09\r",
      "0.1\r",
      "0.11\r",
      "0.12\r",
      "0.13\r",
      "0.14\r",
      "0.15\r",
      "0.16\r",
      "0.17\r",
      "0.18\r",
      "0.19\r",
      "0.2\r",
      "0.21\r",
      "0.22\r",
      "0.23\r",
      "0.24\r",
      "0.25\r",
      "0.26\r",
      "0.27\r",
      "0.28\r",
      "0.29\r",
      "0.3\r",
      "0.31\r",
      "0.32\r",
      "0.33\r",
      "0.34\r",
      "0.35000000000000003\r",
      "0.36\r",
      "0.37\r",
      "0.38\r",
      "0.39\r",
      "0.4\r",
      "0.41000000000000003\r",
      "0.42\r",
      "0.43\r",
      "0.44\r",
      "0.45\r",
      "0.46\r",
      "0.47000000000000003\r",
      "0.48\r",
      "0.49\r",
      "0.5\r",
      "0.51\r",
      "0.52\r",
      "0.53\r",
      "0.54\r",
      "0.55\r",
      "0.56\r",
      "0.5700000000000001\r",
      "0.58\r",
      "0.59\r",
      "0.6\r",
      "0.61\r",
      "0.62\r",
      "0.63\r",
      "0.64\r",
      "0.65\r",
      "0.66\r",
      "0.67\r",
      "0.68\r",
      "0.6900000000000001\r",
      "0.7000000000000001\r",
      "0.71\r",
      "0.72\r",
      "0.73\r",
      "0.74\r",
      "0.75\r",
      "0.76\r",
      "0.77\r",
      "0.78\r",
      "0.79\r",
      "0.8\r",
      "0.81\r",
      "0.8200000000000001\r",
      "0.8300000000000001\r",
      "0.84\r",
      "0.85\r",
      "0.86\r",
      "0.87\r",
      "0.88\r",
      "0.89\r",
      "0.9\r",
      "0.91\r",
      "0.92\r",
      "0.93\r",
      "0.9400000000000001\r",
      "0.9500000000000001\r",
      "0.96\r",
      "0.97\r",
      "0.98\r",
      "0.99\r",
      "1.0\r"
     ]
    }
   ],
   "source": [
    "thresh_array  = np.arange(0,1.01,0.01)\n",
    "maxviol, obj_val = [],[]\n",
    "for t in thresh_array:\n",
    "    print(t, end='\\r')\n",
    "    x_itr = x.value >= t\n",
    "    maxviol += [np.max(np.dot(A,x_itr)- b.T)]\n",
    "    obj_val += [np.dot(c.T,x_itr)[0]]"
   ]
  },
  {
   "cell_type": "code",
   "execution_count": 315,
   "metadata": {},
   "outputs": [
    {
     "data": {
      "text/plain": [
       "Text(0,0.5,'maxviol')"
      ]
     },
     "execution_count": 315,
     "metadata": {},
     "output_type": "execute_result"
    },
    {
     "data": {
      "image/png": "[encoded data removed]",
      "text/plain": [
       "<matplotlib.figure.Figure at 0x7f9f278b6240>"
      ]
     },
     "metadata": {},
     "output_type": "display_data"
    }
   ],
   "source": [
    "plt.plot(thresh_array,maxviol)\n",
    "plt.xlabel(\"t\")\n",
    "plt.ylabel(\"maxviol\")"
   ]
  },
  {
   "cell_type": "code",
   "execution_count": 316,
   "metadata": {
    "scrolled": true
   },
   "outputs": [
    {
     "data": {
      "text/plain": [
       "Text(0,0.5,'obj.')"
      ]
     },
     "execution_count": 316,
     "metadata": {},
     "output_type": "execute_result"
    },
    {
     "data": {
      "image/png": "[encoded data removed]",
      "text/plain": [
       "<matplotlib.figure.Figure at 0x7f9f27849390>"
      ]
     },
     "metadata": {},
     "output_type": "display_data"
    }
   ],
   "source": [
    "import matplotlib.pylab as plt\n",
    "min_thresh = np.array(obj_val)[(np.asarray(maxviol)<=0)].min()\n",
    "plt.plot(thresh_array,np.ones_like(obj_val) * min_thresh)\n",
    "plt.plot(thresh_array,obj_val)\n",
    "plt.xlabel(\"t\")\n",
    "plt.ylabel(\"obj.\")"
   ]
  },
  {
   "cell_type": "code",
   "execution_count": 327,
   "metadata": {},
   "outputs": [
    {
     "data": {
      "text/plain": [
       "-0.4683448349314787"
      ]
     },
     "execution_count": 327,
     "metadata": {},
     "output_type": "execute_result"
    }
   ],
   "source": [
    "res - min_thresh"
   ]
  },
  {
   "cell_type": "markdown",
   "metadata": {},
   "source": [
    "## Q4 - Protfolio optimization"
   ]
  },
  {
   "cell_type": "code",
   "execution_count": 463,
   "metadata": {},
   "outputs": [],
   "source": [
    "np.random.seed(5)\n",
    "n=20\n",
    "m=300\n",
    "S=np.random.rand(n,n)\n",
    "S = S.T.dot(S)\n",
    "S = S/np.max(np.abs(np.diag(S)))*.2\n",
    "S[:,-1] = 0\n",
    "S[-1,:] = 0\n",
    "x_unif = np.ones((n,1))/n\n",
    "pbar = np.ones((n,1))*.03 + np.array(np.append(np.random.rand(n-1,1),0)).reshape((-1,1))*.12"
   ]
  },
  {
   "cell_type": "markdown",
   "metadata": {},
   "source": [
    "Find minimum-risk portfolios with the same expected return as the uniform portfolio $x=1/n*1$, with risk measured by portfolio return standard deviation, and the following portfolio constraints (in addition to $x^T\\cdot1=1$).\n",
    "\n",
    "What is the risk of the uniform portfolio?"
   ]
  },
  {
   "cell_type": "code",
   "execution_count": 464,
   "metadata": {},
   "outputs": [],
   "source": [
    "from cvxpy import quad_form\n",
    "from cvxpy import sum as cvxsum"
   ]
  },
  {
   "cell_type": "markdown",
   "metadata": {},
   "source": [
    "Uniform protfolio"
   ]
  },
  {
   "cell_type": "code",
   "execution_count": 472,
   "metadata": {},
   "outputs": [
    {
     "data": {
      "text/plain": [
       "0.09741557522964421"
      ]
     },
     "execution_count": 472,
     "metadata": {},
     "output_type": "execute_result"
    }
   ],
   "source": [
    "quad_form(x_unif, S).value[0,0]"
   ]
  },
  {
   "cell_type": "markdown",
   "metadata": {},
   "source": [
    "Risk of the optimal protfolio"
   ]
  },
  {
   "cell_type": "code",
   "execution_count": 473,
   "metadata": {},
   "outputs": [
    {
     "data": {
      "text/plain": [
       "6.593319112947965e-06"
      ]
     },
     "execution_count": 473,
     "metadata": {},
     "output_type": "execute_result"
    }
   ],
   "source": [
    "x_opt = cp.Variable(n)\n",
    "ret= x_opt.T * pbar\n",
    "constraints = [cvxsum(x_opt) == 1,ret == unif_risk]\n",
    "prob = cp.Problem(cp.Minimize(quad_form(x_opt, S)), constraints)\n",
    "prob.solve()\n",
    "quad_form(x_opt, S).value"
   ]
  },
  {
   "cell_type": "markdown",
   "metadata": {},
   "source": [
    "Long only protfolio"
   ]
  },
  {
   "cell_type": "code",
   "execution_count": 474,
   "metadata": {},
   "outputs": [
    {
     "data": {
      "text/plain": [
       "0.028576627701325033"
      ]
     },
     "execution_count": 474,
     "metadata": {},
     "output_type": "execute_result"
    }
   ],
   "source": [
    "x_long = cp.Variable(n)\n",
    "ret= x_long.T * pbar\n",
    "constraints = [cvxsum(x_long) == 1, x_long>=0,ret == unif_risk]\n",
    "prob = cp.Problem(cp.Minimize(quad_form(x_long, S)), constraints)\n",
    "prob.solve()\n",
    "quad_form(x_long, S).value"
   ]
  },
  {
   "cell_type": "markdown",
   "metadata": {},
   "source": [
    "limit total short portion"
   ]
  },
  {
   "cell_type": "code",
   "execution_count": 481,
   "metadata": {},
   "outputs": [
    {
     "data": {
      "text/plain": [
       "0.0027482986666702756"
      ]
     },
     "execution_count": 481,
     "metadata": {},
     "output_type": "execute_result"
    }
   ],
   "source": [
    "from cvxpy import pos\n",
    "\n",
    "x_short = cp.Variable(n)\n",
    "ret= pbar.T*x_short\n",
    "constraints = [cvxsum(x_short) == 1,cvxsum(pos(-x_short)) <= 0.5 ,ret == unif_risk]\n",
    "prob = cp.Problem(cp.Minimize(quad_form(x_short, S)), constraints)\n",
    "prob.solve()\n",
    "quad_form(x_short, S).value"
   ]
  }
 ],
 "metadata": {
  "kernelspec": {
   "display_name": "Python 3",
   "language": "python",
   "name": "python3"
  },
  "language_info": {
   "codemirror_mode": {
    "name": "ipython",
    "version": 3
   },
   "file_extension": ".py",
   "mimetype": "text/x-python",
   "name": "python",
   "nbconvert_exporter": "python",
   "pygments_lexer": "ipython3",
   "version": "3.6.4"
  }
 },
 "nbformat": 4,
 "nbformat_minor": 2
}
