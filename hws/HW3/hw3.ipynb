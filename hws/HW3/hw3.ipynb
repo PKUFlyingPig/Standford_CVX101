{
 "cells": [
  {
   "cell_type": "code",
   "execution_count": 1,
   "metadata": {
    "ExecuteTime": {
     "end_time": "2020-07-14T13:16:12.136794Z",
     "start_time": "2020-07-14T13:16:11.721988Z"
    }
   },
   "outputs": [],
   "source": [
    "import numpy as np\n",
    "import cvxpy as cp\n",
    "import matplotlib.pyplot as plt"
   ]
  },
  {
   "cell_type": "markdown",
   "metadata": {
    "ExecuteTime": {
     "end_time": "2020-07-14T09:05:11.852246Z",
     "start_time": "2020-07-14T09:05:11.843658Z"
    }
   },
   "source": [
    "## \"Hello World\" in CVX"
   ]
  },
  {
   "cell_type": "code",
   "execution_count": 2,
   "metadata": {
    "ExecuteTime": {
     "end_time": "2020-07-14T09:43:47.905264Z",
     "start_time": "2020-07-14T09:43:47.898276Z"
    }
   },
   "outputs": [],
   "source": [
    "x = cp.Variable(2)\n",
    "A = np.array([[2,1],[1,3]])\n",
    "b = np.array([1,1])\n",
    "constraints = [A@x >= b,\n",
    "               x >= 0]"
   ]
  },
  {
   "cell_type": "code",
   "execution_count": 3,
   "metadata": {
    "ExecuteTime": {
     "end_time": "2020-07-14T09:43:48.736230Z",
     "start_time": "2020-07-14T09:43:48.730431Z"
    }
   },
   "outputs": [],
   "source": [
    "def solve(obj):\n",
    "    prob = cp.Problem(obj, constraints)\n",
    "    prob.solve()\n",
    "    print(\"status:\", prob.status)\n",
    "    print(\"optimal value\", prob.value)\n",
    "    print(\"optimal var\", x.value)"
   ]
  },
  {
   "cell_type": "code",
   "execution_count": 8,
   "metadata": {
    "ExecuteTime": {
     "end_time": "2020-07-14T09:45:02.484479Z",
     "start_time": "2020-07-14T09:45:02.453747Z"
    }
   },
   "outputs": [
    {
     "name": "stdout",
     "output_type": "stream",
     "text": [
      "status: optimal\n",
      "optimal value 0.5999999999116253\n",
      "optimal var [0.4 0.2]\n"
     ]
    }
   ],
   "source": [
    "obj1 = cp.Minimize(cp.sum(x))\n",
    "solve(obj1)"
   ]
  },
  {
   "cell_type": "code",
   "execution_count": 7,
   "metadata": {
    "ExecuteTime": {
     "end_time": "2020-07-14T09:44:51.424378Z",
     "start_time": "2020-07-14T09:44:51.406257Z"
    }
   },
   "outputs": [
    {
     "name": "stdout",
     "output_type": "stream",
     "text": [
      "status: unbounded\n",
      "optimal value -inf\n",
      "optimal var None\n"
     ]
    }
   ],
   "source": [
    "obj2 = cp.Minimize(-cp.sum(x))\n",
    "solve(obj2)"
   ]
  },
  {
   "cell_type": "code",
   "execution_count": 10,
   "metadata": {
    "ExecuteTime": {
     "end_time": "2020-07-14T09:45:14.407504Z",
     "start_time": "2020-07-14T09:45:14.388826Z"
    }
   },
   "outputs": [
    {
     "name": "stdout",
     "output_type": "stream",
     "text": [
      "status: optimal\n",
      "optimal value -2.2491441767693296e-10\n",
      "optimal var [-2.24914418e-10  1.55371590e+00]\n"
     ]
    }
   ],
   "source": [
    "obj3 = cp.Minimize(x[0])\n",
    "solve(obj3)"
   ]
  },
  {
   "cell_type": "code",
   "execution_count": 12,
   "metadata": {
    "ExecuteTime": {
     "end_time": "2020-07-14T09:45:27.781267Z",
     "start_time": "2020-07-14T09:45:27.753024Z"
    }
   },
   "outputs": [
    {
     "name": "stdout",
     "output_type": "stream",
     "text": [
      "status: optimal\n",
      "optimal value 0.3333333330990559\n",
      "optimal var [0.33333333 0.33333333]\n"
     ]
    }
   ],
   "source": [
    "obj4 = cp.Minimize(cp.max(x))\n",
    "solve(obj4)"
   ]
  },
  {
   "cell_type": "code",
   "execution_count": 13,
   "metadata": {
    "ExecuteTime": {
     "end_time": "2020-07-14T09:46:07.342223Z",
     "start_time": "2020-07-14T09:46:07.316022Z"
    }
   },
   "outputs": [
    {
     "name": "stdout",
     "output_type": "stream",
     "text": [
      "status: optimal\n",
      "optimal value 0.5\n",
      "optimal var [0.5        0.16666667]\n"
     ]
    }
   ],
   "source": [
    "obj5 = cp.Minimize(x[0]**2 + 9*x[1]**2)\n",
    "solve(obj5)"
   ]
  },
  {
   "cell_type": "markdown",
   "metadata": {},
   "source": [
    "## Heuristic suboptimal solution for Boolean LP"
   ]
  },
  {
   "cell_type": "code",
   "execution_count": 40,
   "metadata": {
    "ExecuteTime": {
     "end_time": "2020-07-14T10:18:05.704543Z",
     "start_time": "2020-07-14T10:18:05.695468Z"
    }
   },
   "outputs": [],
   "source": [
    "np.random.seed(3)\n",
    "n = 100\n",
    "m = 300\n",
    "A = np.random.rand(m,n)\n",
    "b = A@np.ones((n,))/2\n",
    "c = -np.random.rand(n,1)"
   ]
  },
  {
   "cell_type": "code",
   "execution_count": 41,
   "metadata": {
    "ExecuteTime": {
     "end_time": "2020-07-14T10:18:06.288856Z",
     "start_time": "2020-07-14T10:18:06.134498Z"
    }
   },
   "outputs": [
    {
     "name": "stdout",
     "output_type": "stream",
     "text": [
      "status: optimal\n",
      "optimal value: -34.79304824434074\n"
     ]
    }
   ],
   "source": [
    "x = cp.Variable(n)\n",
    "constraints = [A@x <= b, 0 <= x ,x <= 1]\n",
    "obj = cp.Minimize(c.T@x)\n",
    "prob = cp.Problem(obj, constraints)\n",
    "L = prob.solve()\n",
    "print(\"status:\", prob.status)\n",
    "print(\"optimal value:\", prob.value)"
   ]
  },
  {
   "cell_type": "code",
   "execution_count": 45,
   "metadata": {
    "ExecuteTime": {
     "end_time": "2020-07-14T12:08:02.475338Z",
     "start_time": "2020-07-14T12:08:02.435982Z"
    }
   },
   "outputs": [],
   "source": [
    "threshold = np.linspace(0,1,101)\n",
    "heuri_obj = np.zeros_like(threshold)\n",
    "maxviol = np.zeros_like(threshold)\n",
    "for i,t in enumerate(threshold):\n",
    "    x_hat = x.value>t\n",
    "    heuri_obj[i] = c.T@x_hat\n",
    "    maxviol[i] = np.max(A@x_hat - b)"
   ]
  },
  {
   "cell_type": "code",
   "execution_count": 49,
   "metadata": {
    "ExecuteTime": {
     "end_time": "2020-07-14T12:13:09.508687Z",
     "start_time": "2020-07-14T12:13:09.504790Z"
    }
   },
   "outputs": [],
   "source": [
    "feasi_mask = maxviol <= 0\n",
    "infeasi_mask = maxviol > 0"
   ]
  },
  {
   "cell_type": "code",
   "execution_count": 54,
   "metadata": {
    "ExecuteTime": {
     "end_time": "2020-07-14T12:16:23.545546Z",
     "start_time": "2020-07-14T12:16:23.354293Z"
    }
   },
   "outputs": [
    {
     "data": {
      "text/plain": [
       "Text(0, 0.5, 'objective')"
      ]
     },
     "execution_count": 54,
     "metadata": {},
     "output_type": "execute_result"
    },
    {
     "data": {
      "image/png": "[encoded data removed]",
      "text/plain": [
       "<Figure size 432x288 with 1 Axes>"
      ]
     },
     "metadata": {},
     "output_type": "display_data"
    }
   ],
   "source": [
    "plt.plot(threshold[feasi_mask], heuri_obj[feasi_mask], c = 'r')\n",
    "plt.plot(threshold[infeasi_mask], heuri_obj[infeasi_mask], c = 'b')\n",
    "plt.xlabel(\"threshold\")\n",
    "plt.ylabel(\"objective\")"
   ]
  },
  {
   "cell_type": "code",
   "execution_count": 55,
   "metadata": {
    "ExecuteTime": {
     "end_time": "2020-07-14T12:17:40.107704Z",
     "start_time": "2020-07-14T12:17:39.898598Z"
    }
   },
   "outputs": [
    {
     "data": {
      "text/plain": [
       "Text(0, 0.5, 'max violation')"
      ]
     },
     "execution_count": 55,
     "metadata": {},
     "output_type": "execute_result"
    },
    {
     "data": {
      "image/png": "[encoded data removed]",
      "text/plain": [
       "<Figure size 432x288 with 1 Axes>"
      ]
     },
     "metadata": {},
     "output_type": "display_data"
    }
   ],
   "source": [
    "plt.plot(threshold[feasi_mask], maxviol[feasi_mask], c = 'r')\n",
    "plt.plot(threshold[infeasi_mask], maxviol[infeasi_mask], c = 'b')\n",
    "plt.xlabel(\"threshold\")\n",
    "plt.ylabel(\"max violation\")"
   ]
  },
  {
   "cell_type": "code",
   "execution_count": 58,
   "metadata": {
    "ExecuteTime": {
     "end_time": "2020-07-14T12:19:31.007405Z",
     "start_time": "2020-07-14T12:19:30.994114Z"
    }
   },
   "outputs": [
    {
     "name": "stdout",
     "output_type": "stream",
     "text": [
      "L: -34.79304824434074\n",
      "U: -33.740088526121006\n"
     ]
    },
    {
     "data": {
      "text/plain": [
       "1.052959718219732"
      ]
     },
     "execution_count": 58,
     "metadata": {},
     "output_type": "execute_result"
    }
   ],
   "source": [
    "U = np.min(heuri_obj[feasi_mask])\n",
    "print(\"L:\",L)\n",
    "print(\"U:\",U)\n",
    "U-L"
   ]
  },
  {
   "cell_type": "markdown",
   "metadata": {},
   "source": [
    "## Simple portfolio optimization"
   ]
  },
  {
   "cell_type": "code",
   "execution_count": 2,
   "metadata": {
    "ExecuteTime": {
     "end_time": "2020-07-14T13:16:16.221425Z",
     "start_time": "2020-07-14T13:16:16.206540Z"
    }
   },
   "outputs": [],
   "source": [
    "np.random.seed(5)\n",
    "n=20\n",
    "m=300\n",
    "S=np.random.rand(n,n)\n",
    "S = S.T.dot(S)\n",
    "S = S/np.max(np.abs(np.diag(S)))*.2\n",
    "S[:,-1] = 0\n",
    "S[-1,:] = 0\n",
    "x_unif = np.ones((n,1))/n\n",
    "pbar = np.ones((n,1))*.03 + np.array(np.append(np.random.rand(n-1,1),0)).reshape((-1,1))*.12"
   ]
  },
  {
   "cell_type": "code",
   "execution_count": 7,
   "metadata": {
    "ExecuteTime": {
     "end_time": "2020-07-14T13:28:05.855230Z",
     "start_time": "2020-07-14T13:28:05.847868Z"
    }
   },
   "outputs": [],
   "source": [
    "expected_return = np.sum(pbar)/n\n",
    "x = cp.Variable(n)\n",
    "constraints1 = [cp.sum(x) == 1, pbar.T@x == expected_return]\n",
    "constraints2 = constraints1 + [x >= 0]\n",
    "constraints3 = constraints1 + [cp.sum(cp.pos(-x)) <= 0.5]\n",
    "obj = cp.Minimize(cp.quad_form(x, S))"
   ]
  },
  {
   "cell_type": "markdown",
   "metadata": {},
   "source": [
    "#### No (additional constraints) "
   ]
  },
  {
   "cell_type": "code",
   "execution_count": 8,
   "metadata": {
    "ExecuteTime": {
     "end_time": "2020-07-14T13:28:06.714806Z",
     "start_time": "2020-07-14T13:28:06.670039Z"
    }
   },
   "outputs": [
    {
     "data": {
      "text/plain": [
       "6.593319112931442e-06"
      ]
     },
     "execution_count": 8,
     "metadata": {},
     "output_type": "execute_result"
    }
   ],
   "source": [
    "prob = cp.Problem(obj, constraints1)\n",
    "optimal_risk = prob.solve()\n",
    "optimal_risk"
   ]
  },
  {
   "cell_type": "markdown",
   "metadata": {},
   "source": [
    "#### Long-only : x >=0 "
   ]
  },
  {
   "cell_type": "code",
   "execution_count": 9,
   "metadata": {
    "ExecuteTime": {
     "end_time": "2020-07-14T13:28:42.142852Z",
     "start_time": "2020-07-14T13:28:42.118145Z"
    }
   },
   "outputs": [
    {
     "data": {
      "text/plain": [
       "0.028576627701325033"
      ]
     },
     "execution_count": 9,
     "metadata": {},
     "output_type": "execute_result"
    }
   ],
   "source": [
    "prob = cp.Problem(obj, constraints2)\n",
    "optimal_risk = prob.solve()\n",
    "optimal_risk"
   ]
  },
  {
   "cell_type": "markdown",
   "metadata": {},
   "source": [
    "#### Limit on total short position"
   ]
  },
  {
   "cell_type": "code",
   "execution_count": 11,
   "metadata": {
    "ExecuteTime": {
     "end_time": "2020-07-14T13:28:59.449560Z",
     "start_time": "2020-07-14T13:28:59.421414Z"
    }
   },
   "outputs": [
    {
     "data": {
      "text/plain": [
       "0.002525183950876323"
      ]
     },
     "execution_count": 11,
     "metadata": {},
     "output_type": "execute_result"
    }
   ],
   "source": [
    "prob = cp.Problem(obj, constraints3)\n",
    "optimal_risk = prob.solve()\n",
    "optimal_risk"
   ]
  },
  {
   "cell_type": "markdown",
   "metadata": {},
   "source": [
    "#### risk-return trade-off curves "
   ]
  },
  {
   "cell_type": "code",
   "execution_count": 16,
   "metadata": {
    "ExecuteTime": {
     "end_time": "2020-07-14T13:48:55.371633Z",
     "start_time": "2020-07-14T13:48:54.108299Z"
    }
   },
   "outputs": [
    {
     "data": {
      "text/plain": [
       "<matplotlib.legend.Legend at 0x7fb7ac141810>"
      ]
     },
     "execution_count": 16,
     "metadata": {},
     "output_type": "execute_result"
    },
    {
     "data": {
      "image/png": "[encoded data removed]",
      "text/plain": [
       "<Figure size 432x288 with 1 Axes>"
      ]
     },
     "metadata": {},
     "output_type": "display_data"
    }
   ],
   "source": [
    "exp_return = np.linspace(0, 0.3, 50)\n",
    "constraints = [cp.sum(x) == 1]\n",
    "obj = cp.Minimize(cp.quad_form(x, S))\n",
    "risk1 = []\n",
    "risk2 = []\n",
    "for er in exp_return:\n",
    "    constr1 = constraints + [pbar.T@x == er, x >= 0]\n",
    "    constr2 = constraints + [pbar.T@x == er, cp.sum(cp.pos(-x)) <= 0.5]\n",
    "    prob1 = cp.Problem(obj, constr1)\n",
    "    risk1 += [prob1.solve()]\n",
    "    prob2 = cp.Problem(obj, constr2)\n",
    "    risk2 += [prob2.solve()]\n",
    "\n",
    "plt.plot(risk1, exp_return, c = 'b', label = 'long-only') \n",
    "plt.plot(risk2, exp_return, c = 'r', label = 'limit on total short position')\n",
    "plt.title(\"risk-return trade-off curves\")\n",
    "plt.xlabel(\"standard deviation of portfolio return\")\n",
    "plt.ylabel(\"mean return\")\n",
    "plt.legend()"
   ]
  },
  {
   "cell_type": "code",
   "execution_count": null,
   "metadata": {},
   "outputs": [],
   "source": []
  }
 ],
 "metadata": {
  "kernelspec": {
   "display_name": "Python 3",
   "language": "python",
   "name": "python3"
  },
  "language_info": {
   "codemirror_mode": {
    "name": "ipython",
    "version": 3
   },
   "file_extension": ".py",
   "mimetype": "text/x-python",
   "name": "python",
   "nbconvert_exporter": "python",
   "pygments_lexer": "ipython3",
   "version": "3.7.7"
  }
 },
 "nbformat": 4,
 "nbformat_minor": 4
}
