{
 "cells": [
  {
   "cell_type": "code",
   "execution_count": 1,
   "metadata": {
    "ExecuteTime": {
     "end_time": "2020-07-25T15:39:02.834350Z",
     "start_time": "2020-07-25T15:39:00.722341Z"
    },
    "pycharm": {
     "is_executing": false
    }
   },
   "outputs": [
    {
     "name": "stderr",
     "output_type": "stream",
     "text": [
      "UsageError: Line magic function `%` not found.\n"
     ]
    }
   ],
   "source": [
    "import numpy as np\n",
    "import cvxpy as cvx\n",
    "import pandas as pd\n",
    "import logging\n",
    "from functools import partial\n",
    "import holoviews as hv\n",
    "import sys\n",
    "sys.path.append(r\"..\")\n",
    "sys.path.append(r\"../../HW9\")\n",
    "% load_ext autoreload\n",
    "% autoreload 2\n",
    "from HW9.hw9_script import *\n",
    "hv.extension('bokeh')\n",
    "import matplotlib.pylab as plt"
   ]
  },
  {
   "cell_type": "markdown",
   "metadata": {
    "heading_collapsed": true,
    "pycharm": {}
   },
   "source": [
    "# Q1 - Gradient and Newton methods"
   ]
  },
  {
   "cell_type": "markdown",
   "metadata": {
    "hidden": true,
    "pycharm": {}
   },
   "source": [
    "### Gradient descent"
   ]
  },
  {
   "cell_type": "code",
   "execution_count": 43,
   "metadata": {
    "hidden": true,
    "pycharm": {}
   },
   "outputs": [],
   "source": [
    "n = 100\n",
    "m = 200\n",
    "np.random.seed(1)\n",
    "logger = logging.getLogger(\"grad_descent\")\n",
    "A = np.random.randn(m,n)\n",
    "\n",
    "STOP_PARAM = 10**-4\n",
    "ALPHA = 0.01\n",
    "BETA = 0.5"
   ]
  },
  {
   "cell_type": "code",
   "execution_count": 72,
   "metadata": {
    "code_folding": [
     0
    ],
    "hidden": true,
    "pycharm": {}
   },
   "outputs": [],
   "source": [
    "def obj(x, a):\n",
    "    \"\"\"\n",
    "    x.shape = (n,1)\n",
    "    \"\"\"\n",
    "    out = -np.log((1 - a.dot(x))).sum() - np.log((1 - x ** 2)).sum()\n",
    "    # logger.info(\"obj:\\t\")\n",
    "    return out\n",
    "\n",
    "\n",
    "def grad(x, a):\n",
    "    return a.T.dot(1 / (1 - a.dot(x))) + 2 * x / (1 - x ** 2)\n",
    "\n",
    "def is_in_domain(x, a):\n",
    "    if not (a.dot(x) <= 1).all() or not (np.abs(x)<=1).all():\n",
    "        return False\n",
    "    return True\n",
    "\n",
    "def backtracking(obj_func, x, step_size, grad, is_valid_x_func\n",
    "                 , alpha: float = 0.25, beta: float = 0.8):\n",
    "    \"\"\"\n",
    "    x.shape = step_size.shape = grad.shape = (n,1)\n",
    "    \"\"\"\n",
    "    t = 1\n",
    "    while t > beta * t:\n",
    "        if not is_valid_x_func(x + t * step_size):\n",
    "            t *= beta\n",
    "            continue\n",
    "        elif obj_func(x + t * step_size) < obj_func(x) + alpha * t * grad.T.dot(step_size).squeeze():\n",
    "            break\n",
    "        t *= beta\n",
    "    return t\n",
    "\n",
    "\n",
    "def gradient_decent(obj_func, grad_func, in_domain_func, x0, logger, max_itr=10 ** 4):\n",
    "    x_itr = x0\n",
    "    fx = [obj_func(x0)]\n",
    "    for k in range(max_itr):\n",
    "\n",
    "        grad_itr = grad_func(x_itr)\n",
    "        if np.linalg.norm(grad_itr) <= STOP_PARAM:\n",
    "            logger.info(f\"itr:{k}:early stopping!\")\n",
    "            break\n",
    "\n",
    "        # get step size\n",
    "        step_size_itr = -grad_itr\n",
    "\n",
    "        # line search\n",
    "        t_itr = backtracking(obj_func, x_itr, step_size_itr, grad_itr, in_domain_func, ALPHA, BETA)\n",
    "\n",
    "        # GD update\n",
    "        x_itr += t_itr * step_size_itr\n",
    "        fx += [obj_func(x_itr)]\n",
    "\n",
    "        logger.info(f\"itr:{k}\\tmean_step_size:{t_itr * step_size_itr.mean()}\\tobj_value:{fx[-1]}\")\n",
    "\n",
    "    return x_itr, fx\n"
   ]
  },
  {
   "cell_type": "code",
   "execution_count": 74,
   "metadata": {
    "hidden": true,
    "pycharm": {},
    "scrolled": true
   },
   "outputs": [
    {
     "name": "stderr",
     "output_type": "stream",
     "text": [
      "INFO:grad_descent:itr:0\tmean_step_size:-0.0037515762004310766\tobj_value:-41.81407476188681\n",
      "INFO:grad_descent:itr:1\tmean_step_size:-0.006318527500090893\tobj_value:-73.09387663691727\n",
      "INFO:grad_descent:itr:2\tmean_step_size:-0.0040997351899688846\tobj_value:-79.56455968369988\n",
      "INFO:grad_descent:itr:3\tmean_step_size:-0.0013135195514500239\tobj_value:-89.85848765552798\n",
      "INFO:grad_descent:itr:4\tmean_step_size:-0.004509730879514931\tobj_value:-101.48082537586293\n",
      "INFO:grad_descent:itr:5\tmean_step_size:-0.001385313587911086\tobj_value:-102.53215431014087\n",
      "INFO:grad_descent:itr:6\tmean_step_size:-0.0014548732118284113\tobj_value:-106.24958307470098\n",
      "INFO:grad_descent:itr:7\tmean_step_size:-0.0033300531279147998\tobj_value:-116.07709296149969\n",
      "INFO:grad_descent:itr:8\tmean_step_size:-0.0014302528171651074\tobj_value:-119.7232034273197\n",
      "INFO:grad_descent:itr:9\tmean_step_size:-0.0029704234527463086\tobj_value:-123.61286401495617\n",
      "INFO:grad_descent:itr:10\tmean_step_size:-0.0016668656356302258\tobj_value:-125.73119624955984\n",
      "INFO:grad_descent:itr:11\tmean_step_size:-0.0009631824302917145\tobj_value:-131.17619412331052\n",
      "INFO:grad_descent:itr:12\tmean_step_size:-0.0018975115889717964\tobj_value:-136.62311929984756\n",
      "INFO:grad_descent:itr:13\tmean_step_size:-0.003667913310082795\tobj_value:-139.20527205809395\n",
      "INFO:grad_descent:itr:14\tmean_step_size:-0.00011576679813982886\tobj_value:-141.02108177030942\n",
      "INFO:grad_descent:itr:15\tmean_step_size:-0.0025909325631433898\tobj_value:-142.02230910222536\n",
      "INFO:grad_descent:itr:16\tmean_step_size:0.00043118967652777283\tobj_value:-144.87738803212028\n",
      "INFO:grad_descent:itr:17\tmean_step_size:-0.0012079986909765003\tobj_value:-148.98090292581847\n",
      "INFO:grad_descent:itr:18\tmean_step_size:-0.003959728777490189\tobj_value:-152.21656333647127\n",
      "INFO:grad_descent:itr:19\tmean_step_size:-0.0015200658482125615\tobj_value:-153.79642596002932\n",
      "INFO:grad_descent:itr:20\tmean_step_size:-0.0009517772807882788\tobj_value:-156.5468250182749\n",
      "INFO:grad_descent:itr:21\tmean_step_size:-0.002995640480647209\tobj_value:-157.9524664826217\n",
      "INFO:grad_descent:itr:22\tmean_step_size:9.40300681904533e-05\tobj_value:-159.91292904771083\n",
      "INFO:grad_descent:itr:23\tmean_step_size:-0.0010736025092239131\tobj_value:-161.82871969079233\n",
      "INFO:grad_descent:itr:24\tmean_step_size:-0.002577187702362801\tobj_value:-162.62861233661823\n",
      "INFO:grad_descent:itr:25\tmean_step_size:-0.000358002006088766\tobj_value:-165.99164531222357\n",
      "INFO:grad_descent:itr:26\tmean_step_size:-0.0012273061484358602\tobj_value:-168.22433877307947\n",
      "INFO:grad_descent:itr:27\tmean_step_size:-0.004427888267355311\tobj_value:-169.26199986663727\n",
      "INFO:grad_descent:itr:28\tmean_step_size:5.583355631738552e-05\tobj_value:-170.64716330295448\n",
      "INFO:grad_descent:itr:29\tmean_step_size:-0.0018371332228347963\tobj_value:-171.46837766403527\n",
      "INFO:grad_descent:itr:30\tmean_step_size:0.00022474639757868293\tobj_value:-173.30595766017103\n",
      "INFO:grad_descent:itr:31\tmean_step_size:-0.0005731213339040539\tobj_value:-174.65629642854287\n",
      "INFO:grad_descent:itr:32\tmean_step_size:-0.000971563362028489\tobj_value:-175.65302994746875\n",
      "INFO:grad_descent:itr:33\tmean_step_size:-0.0020019597187168558\tobj_value:-175.8601892890941\n",
      "INFO:grad_descent:itr:34\tmean_step_size:0.0001760577530549079\tobj_value:-177.15198947105682\n",
      "INFO:grad_descent:itr:35\tmean_step_size:-0.0013167832343181957\tobj_value:-177.98549408709962\n",
      "INFO:grad_descent:itr:36\tmean_step_size:-0.0007723104316547425\tobj_value:-178.49584145453304\n",
      "INFO:grad_descent:itr:37\tmean_step_size:-0.001455804171358136\tobj_value:-178.7066084944584\n",
      "INFO:grad_descent:itr:38\tmean_step_size:2.158764714086694e-05\tobj_value:-179.6385851566518\n",
      "INFO:grad_descent:itr:39\tmean_step_size:-0.0011284506422794697\tobj_value:-180.231780072678\n",
      "INFO:grad_descent:itr:40\tmean_step_size:-0.0007069636958999384\tobj_value:-180.48686415388326\n",
      "INFO:grad_descent:itr:41\tmean_step_size:-0.0011823525107097328\tobj_value:-180.5494763915849\n",
      "INFO:grad_descent:itr:42\tmean_step_size:9.953908011723047e-05\tobj_value:-181.4278294681959\n",
      "INFO:grad_descent:itr:43\tmean_step_size:-0.001009227404269478\tobj_value:-181.84571921319488\n",
      "INFO:grad_descent:itr:44\tmean_step_size:-0.00042248924294980753\tobj_value:-181.965395562977\n",
      "INFO:grad_descent:itr:45\tmean_step_size:-0.0005986842846228115\tobj_value:-182.5152110267187\n",
      "INFO:grad_descent:itr:46\tmean_step_size:-0.00045353851914659016\tobj_value:-182.8056120903874\n",
      "INFO:grad_descent:itr:47\tmean_step_size:-0.0011285402498606158\tobj_value:-182.90323196938124\n",
      "INFO:grad_descent:itr:48\tmean_step_size:6.942904052230538e-05\tobj_value:-182.9668663713602\n",
      "INFO:grad_descent:itr:49\tmean_step_size:-0.001085137242136126\tobj_value:-183.12497461923112\n",
      "INFO:grad_descent:itr:50\tmean_step_size:0.0002061667233577092\tobj_value:-183.3848644039446\n",
      "INFO:grad_descent:itr:51\tmean_step_size:-0.0008672032794800168\tobj_value:-183.5980081068409\n",
      "INFO:grad_descent:itr:52\tmean_step_size:0.00018976695927620178\tobj_value:-183.75388625781542\n",
      "INFO:grad_descent:itr:53\tmean_step_size:-0.0008109096898407848\tobj_value:-183.94553113703154\n",
      "INFO:grad_descent:itr:54\tmean_step_size:0.00015470229575933935\tobj_value:-184.0505505833993\n",
      "INFO:grad_descent:itr:55\tmean_step_size:-0.000767174770188622\tobj_value:-184.21809798596186\n",
      "INFO:grad_descent:itr:56\tmean_step_size:0.00016392536492578768\tobj_value:-184.29543462933802\n",
      "INFO:grad_descent:itr:57\tmean_step_size:-0.0007310824445817855\tobj_value:-184.44894104592532\n",
      "INFO:grad_descent:itr:58\tmean_step_size:0.00018198651173685832\tobj_value:-184.50621209686176\n",
      "INFO:grad_descent:itr:59\tmean_step_size:-0.0007004925718679945\tobj_value:-184.64828738924894\n",
      "INFO:grad_descent:itr:60\tmean_step_size:0.00020277414783218973\tobj_value:-184.68869352161863\n",
      "INFO:grad_descent:itr:61\tmean_step_size:-0.000674374197593779\tobj_value:-184.82130691368303\n",
      "INFO:grad_descent:itr:62\tmean_step_size:0.00022394691716852503\tobj_value:-184.84738688030896\n",
      "INFO:grad_descent:itr:63\tmean_step_size:-0.000651641500842604\tobj_value:-184.97185280101596\n",
      "INFO:grad_descent:itr:64\tmean_step_size:0.0002448304548461186\tobj_value:-184.9856399995704\n",
      "INFO:grad_descent:itr:65\tmean_step_size:-0.000631630496297111\tobj_value:-185.1030667405185\n",
      "INFO:grad_descent:itr:66\tmean_step_size:0.0001324715742902797\tobj_value:-185.28914035338815\n",
      "INFO:grad_descent:itr:67\tmean_step_size:-0.0006526133981910118\tobj_value:-185.3187577196973\n",
      "INFO:grad_descent:itr:68\tmean_step_size:-0.0002077216569301582\tobj_value:-185.54839896457457\n",
      "INFO:grad_descent:itr:69\tmean_step_size:-0.000302028947595566\tobj_value:-185.6009652680323\n",
      "INFO:grad_descent:itr:70\tmean_step_size:-0.0001964027959161158\tobj_value:-185.60969672386406\n",
      "INFO:grad_descent:itr:71\tmean_step_size:-5.123114769015674e-05\tobj_value:-185.6292150343249\n",
      "INFO:grad_descent:itr:72\tmean_step_size:-0.00019580368774586455\tobj_value:-185.72641918491053\n",
      "INFO:grad_descent:itr:73\tmean_step_size:5.014330366867077e-05\tobj_value:-185.74338471702546\n",
      "INFO:grad_descent:itr:74\tmean_step_size:-0.00021987221408407184\tobj_value:-185.7832373126715\n",
      "INFO:grad_descent:itr:75\tmean_step_size:4.058240890943945e-05\tobj_value:-185.7972186261867\n",
      "INFO:grad_descent:itr:76\tmean_step_size:-0.00019802239794368602\tobj_value:-185.83087955864576\n",
      "INFO:grad_descent:itr:77\tmean_step_size:3.558994581584399e-05\tobj_value:-185.84448256120876\n",
      "INFO:grad_descent:itr:78\tmean_step_size:-0.0001746910374673158\tobj_value:-185.87285909054123\n",
      "INFO:grad_descent:itr:79\tmean_step_size:2.8068044343775986e-05\tobj_value:-185.88656186568983\n",
      "INFO:grad_descent:itr:80\tmean_step_size:-0.00015046248557823102\tobj_value:-185.90983957408662\n",
      "INFO:grad_descent:itr:81\tmean_step_size:1.95218098749546e-05\tobj_value:-185.92370111329544\n",
      "INFO:grad_descent:itr:82\tmean_step_size:-0.00012690355542881873\tobj_value:-185.94235450489205\n",
      "INFO:grad_descent:itr:83\tmean_step_size:1.0420366579853133e-05\tobj_value:-185.95620987708776\n",
      "INFO:grad_descent:itr:84\tmean_step_size:-0.00010468828427961989\tobj_value:-185.97090899065017\n",
      "INFO:grad_descent:itr:85\tmean_step_size:1.7604881233534704e-06\tobj_value:-185.98447103217845\n",
      "INFO:grad_descent:itr:86\tmean_step_size:-0.00016912315331167133\tobj_value:-185.98908698775372\n",
      "INFO:grad_descent:itr:87\tmean_step_size:6.593582927906824e-05\tobj_value:-186.01046522929371\n",
      "INFO:grad_descent:itr:88\tmean_step_size:-0.00019905374470658257\tobj_value:-186.01496682510307\n"
     ]
    },
    {
     "name": "stderr",
     "output_type": "stream",
     "text": [
      "INFO:grad_descent:itr:89\tmean_step_size:9.152344185963762e-05\tobj_value:-186.04230050558263\n",
      "INFO:grad_descent:itr:90\tmean_step_size:-0.00010804256159925028\tobj_value:-186.04950819943065\n",
      "INFO:grad_descent:itr:91\tmean_step_size:4.25832115944485e-05\tobj_value:-186.060028973735\n",
      "INFO:grad_descent:itr:92\tmean_step_size:-0.00014546871249554092\tobj_value:-186.06757241365767\n",
      "INFO:grad_descent:itr:93\tmean_step_size:7.14177019577772e-05\tobj_value:-186.08332044908664\n",
      "INFO:grad_descent:itr:94\tmean_step_size:-7.874175630771165e-05\tobj_value:-186.08909278907706\n",
      "INFO:grad_descent:itr:95\tmean_step_size:7.111145351652885e-05\tobj_value:-186.08972413902882\n",
      "INFO:grad_descent:itr:96\tmean_step_size:-9.735807343222022e-05\tobj_value:-186.10162184346515\n",
      "INFO:grad_descent:itr:97\tmean_step_size:5.599937206841483e-05\tobj_value:-186.10414584279332\n",
      "INFO:grad_descent:itr:98\tmean_step_size:-7.602895269688503e-05\tobj_value:-186.11250866449598\n",
      "INFO:grad_descent:itr:99\tmean_step_size:4.247564563133175e-05\tobj_value:-186.11596810333214\n",
      "INFO:grad_descent:itr:100\tmean_step_size:-5.9251792106826175e-05\tobj_value:-186.1220466604131\n",
      "INFO:grad_descent:itr:101\tmean_step_size:3.0754588360701675e-05\tobj_value:-186.12599280748034\n",
      "INFO:grad_descent:itr:102\tmean_step_size:-4.492782412623086e-05\tobj_value:-186.13042650421147\n",
      "INFO:grad_descent:itr:103\tmean_step_size:4.263426080456758e-05\tobj_value:-186.13201234613825\n",
      "INFO:grad_descent:itr:104\tmean_step_size:-8.238206409682917e-05\tobj_value:-186.14074996101914\n",
      "INFO:grad_descent:itr:105\tmean_step_size:6.030070492187424e-05\tobj_value:-186.14128824607604\n",
      "INFO:grad_descent:itr:106\tmean_step_size:-6.414689894736512e-05\tobj_value:-186.14751674108322\n",
      "INFO:grad_descent:itr:107\tmean_step_size:4.691186250450369e-05\tobj_value:-186.14906788612902\n",
      "INFO:grad_descent:itr:108\tmean_step_size:-4.900215140501254e-05\tobj_value:-186.15340883007306\n",
      "INFO:grad_descent:itr:109\tmean_step_size:3.487984181596913e-05\tobj_value:-186.15552752823936\n",
      "INFO:grad_descent:itr:110\tmean_step_size:-3.621617533693202e-05\tobj_value:-186.158564103001\n",
      "INFO:grad_descent:itr:111\tmean_step_size:2.537733664351404e-05\tobj_value:-186.16091809876943\n",
      "INFO:grad_descent:itr:112\tmean_step_size:-5.194546312606511e-05\tobj_value:-186.16164914171523\n",
      "INFO:grad_descent:itr:113\tmean_step_size:4.1548385094137266e-05\tobj_value:-186.1656320205442\n",
      "INFO:grad_descent:itr:114\tmean_step_size:-2.9370831721230728e-05\tobj_value:-186.16745238166192\n",
      "INFO:grad_descent:itr:115\tmean_step_size:4.993274681478728e-05\tobj_value:-186.1677586927258\n",
      "INFO:grad_descent:itr:116\tmean_step_size:-4.577165563495701e-05\tobj_value:-186.17137671512555\n",
      "INFO:grad_descent:itr:117\tmean_step_size:3.831940130318607e-05\tobj_value:-186.17238512990596\n",
      "INFO:grad_descent:itr:118\tmean_step_size:-3.3003519152974986e-05\tobj_value:-186.17477256100682\n",
      "INFO:grad_descent:itr:119\tmean_step_size:2.8391759011056754e-05\tobj_value:-186.17610833634504\n",
      "INFO:grad_descent:itr:120\tmean_step_size:-2.3261125145565565e-05\tobj_value:-186.177748995854\n",
      "INFO:grad_descent:itr:121\tmean_step_size:4.1964983538285e-05\tobj_value:-186.17835152592755\n",
      "INFO:grad_descent:itr:122\tmean_step_size:-4.4000291176309896e-05\tobj_value:-186.18154017097166\n",
      "INFO:grad_descent:itr:123\tmean_step_size:3.9852352436659776e-05\tobj_value:-186.18192038041093\n",
      "INFO:grad_descent:itr:124\tmean_step_size:-3.163182821608332e-05\tobj_value:-186.18397544072505\n",
      "INFO:grad_descent:itr:125\tmean_step_size:3.0045736053760332e-05\tobj_value:-186.18473932543503\n",
      "INFO:grad_descent:itr:126\tmean_step_size:-2.2157549343708602e-05\tobj_value:-186.1860901078385\n",
      "INFO:grad_descent:itr:127\tmean_step_size:2.2393752971829307e-05\tobj_value:-186.18701817438222\n",
      "INFO:grad_descent:itr:128\tmean_step_size:-2.9889761546328932e-05\tobj_value:-186.1872381909718\n",
      "INFO:grad_descent:itr:129\tmean_step_size:3.0557589480963485e-05\tobj_value:-186.1889659382503\n",
      "INFO:grad_descent:itr:130\tmean_step_size:-1.6237069092650947e-05\tobj_value:-186.18966239792718\n",
      "INFO:grad_descent:itr:131\tmean_step_size:1.9708270080299584e-05\tobj_value:-186.19059066007443\n",
      "INFO:grad_descent:itr:132\tmean_step_size:-1.7585896290464036e-05\tobj_value:-186.19120612333927\n",
      "INFO:grad_descent:itr:133\tmean_step_size:3.0406768927248432e-05\tobj_value:-186.1927743861637\n",
      "INFO:grad_descent:itr:134\tmean_step_size:-1.5741716719538428e-05\tobj_value:-186.1932465608765\n",
      "INFO:grad_descent:itr:135\tmean_step_size:1.9763026162522476e-05\tobj_value:-186.1940565630947\n",
      "INFO:grad_descent:itr:136\tmean_step_size:-1.6528370591454756e-05\tobj_value:-186.19428538415295\n",
      "INFO:grad_descent:itr:137\tmean_step_size:3.026616474024243e-05\tobj_value:-186.19573841259856\n",
      "INFO:grad_descent:itr:138\tmean_step_size:-1.5318186623038784e-05\tobj_value:-186.19604012592572\n",
      "INFO:grad_descent:itr:139\tmean_step_size:1.970252045417343e-05\tobj_value:-186.19675861950884\n",
      "INFO:grad_descent:itr:140\tmean_step_size:-7.973567945458932e-06\tobj_value:-186.1972022243944\n",
      "INFO:grad_descent:itr:141\tmean_step_size:2.6727770252258283e-05\tobj_value:-186.1973484579688\n",
      "INFO:grad_descent:itr:142\tmean_step_size:-1.7387830125839262e-05\tobj_value:-186.19809901200003\n",
      "INFO:grad_descent:itr:143\tmean_step_size:2.0193818710776035e-05\tobj_value:-186.198400978941\n",
      "INFO:grad_descent:itr:144\tmean_step_size:-1.1339670796950575e-05\tobj_value:-186.19887747021426\n",
      "INFO:grad_descent:itr:145\tmean_step_size:3.06007165940196e-05\tobj_value:-186.19890578685772\n",
      "INFO:grad_descent:itr:146\tmean_step_size:-2.229333140587299e-05\tobj_value:-186.19986516102108\n",
      "INFO:grad_descent:itr:147\tmean_step_size:2.4132202615465975e-05\tobj_value:-186.19994956930225\n",
      "INFO:grad_descent:itr:148\tmean_step_size:-1.4947736564710021e-05\tobj_value:-186.20051680050156\n",
      "INFO:grad_descent:itr:149\tmean_step_size:1.8153084356476127e-05\tobj_value:-186.20072587509128\n",
      "INFO:grad_descent:itr:150\tmean_step_size:-9.66805802614615e-06\tobj_value:-186.2010808438375\n",
      "INFO:grad_descent:itr:151\tmean_step_size:1.381174232903086e-05\tobj_value:-186.20133822321412\n",
      "INFO:grad_descent:itr:152\tmean_step_size:-1.1827546052926743e-05\tobj_value:-186.20142901845975\n",
      "INFO:grad_descent:itr:153\tmean_step_size:1.6385840253102597e-05\tobj_value:-186.20185388587822\n",
      "INFO:grad_descent:itr:154\tmean_step_size:-5.887034883240155e-06\tobj_value:-186.2020484174244\n",
      "INFO:grad_descent:itr:155\tmean_step_size:1.1275020248725019e-05\tobj_value:-186.20229533307156\n",
      "INFO:grad_descent:itr:156\tmean_step_size:-4.676855228050252e-06\tobj_value:-186.20246708056567\n",
      "INFO:grad_descent:itr:157\tmean_step_size:1.708624997178141e-05\tobj_value:-186.2028938784585\n",
      "INFO:grad_descent:itr:158\tmean_step_size:-6.672609529094823e-06\tobj_value:-186.2030203208442\n",
      "INFO:grad_descent:itr:159\tmean_step_size:1.1683292461129155e-05\tobj_value:-186.20325232673167\n",
      "INFO:grad_descent:itr:160\tmean_step_size:-5.759885208375127e-06\tobj_value:-186.20328248678499\n",
      "INFO:grad_descent:itr:161\tmean_step_size:1.7767572211556412e-05\tobj_value:-186.20371960272286\n",
      "INFO:grad_descent:itr:162\tmean_step_size:-7.432171844476477e-06\tobj_value:-186.2037902105193\n",
      "INFO:grad_descent:itr:163\tmean_step_size:1.2062111591378859e-05\tobj_value:-186.20401361552138\n",
      "INFO:grad_descent:itr:164\tmean_step_size:-3.4393763045436025e-06\tobj_value:-186.20413304797222\n",
      "INFO:grad_descent:itr:165\tmean_step_size:1.6933473266103348e-05\tobj_value:-186.20415157757319\n",
      "INFO:grad_descent:itr:166\tmean_step_size:-9.601964534728388e-06\tobj_value:-186.20439818781426\n",
      "INFO:grad_descent:itr:167\tmean_step_size:1.2784443015640245e-05\tobj_value:-186.20447717154832\n",
      "INFO:grad_descent:itr:168\tmean_step_size:-5.966783202882785e-06\tobj_value:-186.20462636196766\n",
      "INFO:grad_descent:itr:169\tmean_step_size:9.801094575093779e-06\tobj_value:-186.2047286382312\n",
      "INFO:grad_descent:itr:170\tmean_step_size:-6.934561714077577e-06\tobj_value:-186.20476134265152\n",
      "INFO:grad_descent:itr:171\tmean_step_size:1.1079548172440862e-05\tobj_value:-186.20493820093898\n",
      "INFO:grad_descent:itr:172\tmean_step_size:-3.2293435598189325e-06\tobj_value:-186.20501465888694\n",
      "INFO:grad_descent:itr:173\tmean_step_size:7.786986052909125e-06\tobj_value:-186.20511834274382\n",
      "INFO:grad_descent:itr:174\tmean_step_size:-1.902325222626688e-06\tobj_value:-186.20517613237655\n",
      "INFO:grad_descent:itr:175\tmean_step_size:1.1717478847492035e-05\tobj_value:-186.20536130523567\n",
      "INFO:grad_descent:itr:176\tmean_step_size:-4.019763899989451e-06\tobj_value:-186.20540875719016\n"
     ]
    },
    {
     "name": "stderr",
     "output_type": "stream",
     "text": [
      "INFO:grad_descent:itr:177\tmean_step_size:8.155899392687103e-06\tobj_value:-186.20550983196082\n",
      "INFO:grad_descent:itr:178\tmean_step_size:-1.5250117287173937e-06\tobj_value:-186.20557588180816\n",
      "INFO:grad_descent:itr:179\tmean_step_size:1.1720951112030208e-05\tobj_value:-186.20559834325005\n",
      "INFO:grad_descent:itr:180\tmean_step_size:-5.890053148194768e-06\tobj_value:-186.20571019240393\n",
      "INFO:grad_descent:itr:181\tmean_step_size:8.922015770643475e-06\tobj_value:-186.2057578952273\n",
      "INFO:grad_descent:itr:182\tmean_step_size:-3.4991764608335656e-06\tobj_value:-186.2058270978655\n",
      "INFO:grad_descent:itr:183\tmean_step_size:1.3900225706740596e-05\tobj_value:-186.20584963277418\n",
      "INFO:grad_descent:itr:184\tmean_step_size:-7.305746599766815e-06\tobj_value:-186.2059815001236\n",
      "INFO:grad_descent:itr:185\tmean_step_size:9.71905837529077e-06\tobj_value:-186.20600451481374\n",
      "INFO:grad_descent:itr:186\tmean_step_size:-4.505311195867878e-06\tobj_value:-186.20607986026428\n",
      "INFO:grad_descent:itr:187\tmean_step_size:7.438846707508066e-06\tobj_value:-186.20611842980966\n",
      "INFO:grad_descent:itr:188\tmean_step_size:-2.60131688013676e-06\tobj_value:-186.20616616889174\n",
      "INFO:grad_descent:itr:189\tmean_step_size:1.171378271152304e-05\tobj_value:-186.20619640772264\n",
      "INFO:grad_descent:itr:190\tmean_step_size:-5.60514121738522e-06\tobj_value:-186.20628288893792\n",
      "INFO:grad_descent:itr:191\tmean_step_size:8.000804507640605e-06\tobj_value:-186.20630472531906\n",
      "INFO:grad_descent:itr:192\tmean_step_size:-3.377737966376421e-06\tobj_value:-186.2063551527106\n",
      "INFO:grad_descent:itr:193\tmean_step_size:6.181247834234646e-06\tobj_value:-186.2063861804207\n",
      "INFO:grad_descent:itr:194\tmean_step_size:-3.7491013108899734e-06\tobj_value:-186.2063932478467\n",
      "INFO:grad_descent:itr:195\tmean_step_size:6.753796376196958e-06\tobj_value:-186.2064530419353\n",
      "INFO:grad_descent:itr:196\tmean_step_size:-1.6276210244916265e-06\tobj_value:-186.20647561660772\n",
      "INFO:grad_descent:itr:197\tmean_step_size:4.820972810684133e-06\tobj_value:-186.2065104715305\n",
      "INFO:grad_descent:itr:198\tmean_step_size:-5.883260257079424e-07\tobj_value:-186.20652182080354\n",
      "INFO:grad_descent:itr:199\tmean_step_size:7.222003915895205e-06\tobj_value:-186.20658690590832\n",
      "INFO:grad_descent:itr:200\tmean_step_size:-2.229653284961041e-06\tobj_value:-186.20659970629015\n",
      "INFO:grad_descent:itr:201\tmean_step_size:5.0947573544761215e-06\tobj_value:-186.20663499708218\n",
      "INFO:grad_descent:itr:202\tmean_step_size:-7.407525738107506e-07\tobj_value:-186.20665508710664\n",
      "INFO:grad_descent:itr:203\tmean_step_size:7.4039539798038866e-06\tobj_value:-186.20665894958287\n",
      "INFO:grad_descent:itr:204\tmean_step_size:-3.5248479062380917e-06\tobj_value:-186.20669919946639\n",
      "INFO:grad_descent:itr:205\tmean_step_size:5.6386348963878675e-06\tobj_value:-186.20671321630536\n",
      "INFO:grad_descent:itr:206\tmean_step_size:-2.042869639582339e-06\tobj_value:-186.2067372849905\n",
      "INFO:grad_descent:itr:207\tmean_step_size:8.826666357188354e-06\tobj_value:-186.20673947841334\n",
      "INFO:grad_descent:itr:208\tmean_step_size:-4.334823599533679e-06\tobj_value:-186.20678687025844\n",
      "INFO:grad_descent:itr:209\tmean_step_size:6.036842917634454e-06\tobj_value:-186.20679296806722\n",
      "INFO:grad_descent:itr:210\tmean_step_size:-2.6165428341926924e-06\tobj_value:-186.20681925342348\n",
      "INFO:grad_descent:itr:211\tmean_step_size:4.637784299109239e-06\tobj_value:-186.20683129085623\n",
      "INFO:grad_descent:itr:212\tmean_step_size:-1.4631436300401029e-06\tobj_value:-186.2068475596294\n",
      "INFO:grad_descent:itr:213\tmean_step_size:7.350664560398741e-06\tobj_value:-186.20685552356377\n",
      "INFO:grad_descent:itr:214\tmean_step_size:-3.24097703954048e-06\tobj_value:-186.2068856275837\n",
      "INFO:grad_descent:itr:215\tmean_step_size:4.911149110458369e-06\tobj_value:-186.2068923174772\n",
      "INFO:grad_descent:itr:216\tmean_step_size:-1.9051203385067591e-06\tobj_value:-186.20690951625878\n",
      "INFO:grad_descent:itr:217\tmean_step_size:3.816739834829901e-06\tobj_value:-186.2069195616788\n",
      "INFO:grad_descent:itr:218\tmean_step_size:-2.0265872381183706e-06\tobj_value:-186.20692140101113\n",
      "INFO:grad_descent:itr:219\tmean_step_size:4.062582063273843e-06\tobj_value:-186.20694174048032\n",
      "INFO:grad_descent:itr:220\tmean_step_size:-8.065563759127346e-07\tobj_value:-186.20694894230132\n",
      "INFO:grad_descent:itr:221\tmean_step_size:2.9324191068146955e-06\tobj_value:-186.20696080638908\n",
      "INFO:grad_descent:itr:222\tmean_step_size:-5.9545667020327036e-08\tobj_value:-186.20696336623925\n",
      "INFO:grad_descent:itr:223\tmean_step_size:4.370518585402158e-06\tobj_value:-186.20698601233573\n",
      "INFO:grad_descent:itr:224\tmean_step_size:-1.2129336143548882e-06\tobj_value:-186.20698984523534\n",
      "INFO:grad_descent:itr:225\tmean_step_size:3.11379191136737e-06\tobj_value:-186.20700213010852\n",
      "INFO:grad_descent:itr:226\tmean_step_size:-3.3498361522739556e-07\tobj_value:-186.2070086272833\n",
      "INFO:grad_descent:itr:227\tmean_step_size:4.565452126413162e-06\tobj_value:-186.20700928524917\n",
      "INFO:grad_descent:itr:228\tmean_step_size:-2.0667070258223657e-06\tobj_value:-186.2070235439989\n",
      "INFO:grad_descent:itr:229\tmean_step_size:3.485750335530036e-06\tobj_value:-186.2070279902656\n",
      "INFO:grad_descent:itr:230\tmean_step_size:-1.1708573170164114e-06\tobj_value:-186.2070363637317\n",
      "INFO:grad_descent:itr:231\tmean_step_size:2.7431593998255963e-06\tobj_value:-186.20704221426843\n",
      "INFO:grad_descent:itr:232\tmean_step_size:-1.152461498060346e-06\tobj_value:-186.20704436500122\n",
      "INFO:grad_descent:itr:233\tmean_step_size:2.8036623079453126e-06\tobj_value:-186.20705401581233\n",
      "INFO:grad_descent:itr:234\tmean_step_size:-3.5270848956091656e-07\tobj_value:-186.20705843834028\n",
      "INFO:grad_descent:itr:235\tmean_step_size:2.0510028911406866e-06\tobj_value:-186.20706430978467\n",
      "INFO:grad_descent:itr:236\tmean_step_size:3.1652805799481546e-07\tobj_value:-186.20706763645777\n",
      "INFO:grad_descent:itr:237\tmean_step_size:3.014084322673314e-06\tobj_value:-186.2070782836939\n",
      "INFO:grad_descent:itr:238\tmean_step_size:-6.508123227884138e-07\tobj_value:-186.20708096319282\n",
      "INFO:grad_descent:itr:239\tmean_step_size:2.173456109542882e-06\tobj_value:-186.20708696108167\n",
      "INFO:grad_descent:itr:240\tmean_step_size:-6.909898104144098e-08\tobj_value:-186.20709077288464\n",
      "INFO:grad_descent:itr:241\tmean_step_size:3.228592105894528e-06\tobj_value:-186.2070918931396\n",
      "INFO:grad_descent:itr:242\tmean_step_size:-1.3162733666026747e-06\tobj_value:-186.20709876234196\n",
      "INFO:grad_descent:itr:243\tmean_step_size:2.4921696682331464e-06\tobj_value:-186.20710155396637\n",
      "INFO:grad_descent:itr:244\tmean_step_size:-7.132898991287322e-07\tobj_value:-186.207105713467\n",
      "INFO:grad_descent:itr:245\tmean_step_size:3.9739305915122126e-06\tobj_value:-186.20710711796207\n",
      "INFO:grad_descent:itr:246\tmean_step_size:-1.6276932544934615e-06\tobj_value:-186.20711498850687\n",
      "INFO:grad_descent:itr:247\tmean_step_size:2.609027692582375e-06\tobj_value:-186.20711648340207\n",
      "INFO:grad_descent:itr:248\tmean_step_size:-9.351236199498392e-07\tobj_value:-186.2071208959702\n",
      "INFO:grad_descent:itr:249\tmean_step_size:2.039545297367443e-06\tobj_value:-186.20712330925997\n",
      "INFO:grad_descent:itr:250\tmean_step_size:-9.527635108970941e-07\tobj_value:-186.2071235922557\n",
      "INFO:grad_descent:itr:251\tmean_step_size:2.121842871897932e-06\tobj_value:-186.20712881561096\n",
      "INFO:grad_descent:itr:252\tmean_step_size:-3.3906909231999816e-07\tobj_value:-186.20713050950795\n",
      "INFO:grad_descent:itr:253\tmean_step_size:1.5454769080981658e-06\tobj_value:-186.20713354370253\n",
      "INFO:grad_descent:itr:254\tmean_step_size:1.0994075317378863e-07\tobj_value:-186.20713381206525\n",
      "INFO:grad_descent:itr:255\tmean_step_size:2.2907558105200267e-06\tobj_value:-186.2071397374656\n",
      "INFO:grad_descent:itr:256\tmean_step_size:-5.684294350216266e-07\tobj_value:-186.20714056429154\n",
      "INFO:grad_descent:itr:257\tmean_step_size:1.6452772865031928e-06\tobj_value:-186.2071437680379\n",
      "INFO:grad_descent:itr:258\tmean_step_size:-1.1895762849824278e-07\tobj_value:-186.20714532472135\n",
      "INFO:grad_descent:itr:259\tmean_step_size:1.2152757981371608e-06\tobj_value:-186.20714730027055\n",
      "INFO:grad_descent:itr:260\tmean_step_size:3.393763646862457e-07\tobj_value:-186.20714858092077\n",
      "INFO:grad_descent:itr:261\tmean_step_size:1.7679062681492315e-06\tobj_value:-186.20715212609264\n",
      "INFO:grad_descent:itr:262\tmean_step_size:-3.0291186143571256e-07\tobj_value:-186.20715308901504\n",
      "INFO:grad_descent:itr:263\tmean_step_size:1.286166497089007e-06\tobj_value:-186.20715511085658\n",
      "INFO:grad_descent:itr:264\tmean_step_size:2.7759178028591843e-08\tobj_value:-186.20715644351074\n",
      "INFO:grad_descent:itr:265\tmean_step_size:1.9281967856508407e-06\tobj_value:-186.20715687818515\n",
      "INFO:grad_descent:itr:266\tmean_step_size:-7.265562501831857e-07\tobj_value:-186.20715919493892\n",
      "INFO:grad_descent:itr:267\tmean_step_size:1.4990199624689257e-06\tobj_value:-186.20716018520378\n",
      "INFO:grad_descent:itr:268\tmean_step_size:-3.789871840966873e-07\tobj_value:-186.2071615956813\n",
      "INFO:grad_descent:itr:269\tmean_step_size:2.4105443636225202e-06\tobj_value:-186.20716219093867\n",
      "INFO:grad_descent:itr:270\tmean_step_size:-9.049064012936953e-07\tobj_value:-186.2071648241373\n",
      "INFO:grad_descent:itr:271\tmean_step_size:1.5565989324656384e-06\tobj_value:-186.2071653816917\n",
      "INFO:grad_descent:itr:272\tmean_step_size:-5.066437246993533e-07\tobj_value:-186.2071668655065\n",
      "INFO:grad_descent:itr:273\tmean_step_size:1.2268617284004868e-06\tobj_value:-186.2071677226281\n",
      "INFO:grad_descent:itr:274\tmean_step_size:-4.879590535295392e-07\tobj_value:-186.20716787929894\n",
      "INFO:grad_descent:itr:275\tmean_step_size:1.2436328077698307e-06\tobj_value:-186.2071696215397\n",
      "INFO:grad_descent:itr:276\tmean_step_size:-1.4047379504080922e-07\tobj_value:-186.20717023528616\n",
      "INFO:grad_descent:itr:277\tmean_step_size:9.135317819167418e-07\tobj_value:-186.2071712610475\n",
      "INFO:grad_descent:itr:278\tmean_step_size:1.6620698279250895e-07\tobj_value:-186.20717144868615\n",
      "INFO:grad_descent:itr:279\tmean_step_size:1.341849834526174e-06\tobj_value:-186.20717342789726\n",
      "INFO:grad_descent:itr:280\tmean_step_size:-2.804280658147365e-07\tobj_value:-186.20717374405544\n",
      "INFO:grad_descent:itr:281\tmean_step_size:9.7110659387768e-07\tobj_value:-186.2071748270518\n",
      "INFO:grad_descent:itr:282\tmean_step_size:-2.4056565225603032e-08\tobj_value:-186.2071753823701\n",
      "INFO:grad_descent:itr:283\tmean_step_size:1.446284858098498e-06\tobj_value:-186.20717541251014\n",
      "INFO:grad_descent:itr:284\tmean_step_size:-5.836306725408533e-07\tobj_value:-186.20717668798426\n",
      "INFO:grad_descent:itr:285\tmean_step_size:1.1152087592543795e-06\tobj_value:-186.20717706736067\n",
      "INFO:grad_descent:itr:286\tmean_step_size:-3.14062069947021e-07\tobj_value:-186.20717780834923\n",
      "INFO:grad_descent:itr:287\tmean_step_size:8.892786094850475e-07\tobj_value:-186.20717831718193\n",
      "INFO:grad_descent:itr:288\tmean_step_size:-2.7357706071574096e-07\tobj_value:-186.20717849939692\n",
      "INFO:grad_descent:itr:289\tmean_step_size:8.704027823487924e-07\tobj_value:-186.20717935148306\n",
      "INFO:grad_descent:itr:290\tmean_step_size:-4.063286789557561e-08\tobj_value:-186.20717973551626\n",
      "INFO:grad_descent:itr:291\tmean_step_size:6.461506260890175e-07\tobj_value:-186.20718025584904\n",
      "INFO:grad_descent:itr:292\tmean_step_size:2.1792931657821905e-07\tobj_value:-186.2071805287029\n",
      "INFO:grad_descent:itr:293\tmean_step_size:9.357274083514352e-07\tobj_value:-186.2071814826176\n",
      "INFO:grad_descent:itr:294\tmean_step_size:-1.4121941297368076e-07\tobj_value:-186.20718171145626\n",
      "INFO:grad_descent:itr:295\tmean_step_size:6.8368792595785e-07\tobj_value:-186.20718225071934\n",
      "INFO:grad_descent:itr:296\tmean_step_size:3.10000528482601e-08\tobj_value:-186.20718258406077\n",
      "INFO:grad_descent:itr:297\tmean_step_size:1.029308907129658e-06\tobj_value:-186.2071826711951\n",
      "INFO:grad_descent:itr:298\tmean_step_size:-3.739642506826398e-07\tobj_value:-186.207183295677\n",
      "INFO:grad_descent:itr:299\tmean_step_size:8.023849984779127e-07\tobj_value:-186.20718353938736\n",
      "INFO:grad_descent:itr:300\tmean_step_size:-1.9132687529826052e-07\tobj_value:-186.20718391424109\n",
      "INFO:grad_descent:itr:301\tmean_step_size:1.294662356172711e-06\tobj_value:-186.20718402672946\n",
      "INFO:grad_descent:itr:302\tmean_step_size:-4.671660625731801e-07\tobj_value:-186.20718473959698\n",
      "INFO:grad_descent:itr:303\tmean_step_size:8.29677085406218e-07\tobj_value:-186.2071848709989\n",
      "INFO:grad_descent:itr:304\tmean_step_size:-2.5820654424430695e-07\tobj_value:-186.20718526781243\n",
      "INFO:grad_descent:itr:305\tmean_step_size:6.560648661253542e-07\tobj_value:-186.2071854833352\n",
      "INFO:grad_descent:itr:306\tmean_step_size:-2.41503834463705e-07\tobj_value:-186.20718550828877\n",
      "INFO:grad_descent:itr:307\tmean_step_size:6.57537095803406e-07\tobj_value:-186.20718597643526\n",
      "INFO:grad_descent:itr:308\tmean_step_size:-6.09242420132723e-08\tobj_value:-186.20718612764665\n",
      "INFO:grad_descent:itr:309\tmean_step_size:4.848707823228245e-07\tobj_value:-186.20718640092912\n",
      "INFO:grad_descent:itr:310\tmean_step_size:1.1091796433666704e-07\tobj_value:-186.20718642023618\n",
      "INFO:grad_descent:itr:311\tmean_step_size:7.096065200987695e-07\tobj_value:-186.20718695705395\n",
      "INFO:grad_descent:itr:312\tmean_step_size:-1.3679515328434928e-07\tobj_value:-186.20718702940187\n",
      "INFO:grad_descent:itr:313\tmean_step_size:5.153107803266176e-07\tobj_value:-186.207187321048\n",
      "INFO:grad_descent:itr:314\tmean_step_size:-2.8929151654317435e-09\tobj_value:-186.2071874604503\n",
      "INFO:grad_descent:itr:315\tmean_step_size:3.850426331642011e-07\tobj_value:-186.20718764047334\n",
      "INFO:grad_descent:itr:316\tmean_step_size:1.661432056081628e-07\tobj_value:-186.2071877508548\n",
      "INFO:grad_descent:itr:317\tmean_step_size:5.527945516274183e-07\tobj_value:-186.20718807660634\n",
      "INFO:grad_descent:itr:318\tmean_step_size:-6.37086686662836e-08\tobj_value:-186.2071881619923\n",
      "INFO:grad_descent:itr:319\tmean_step_size:4.0630343158725814e-07\tobj_value:-186.20718834797972\n",
      "INFO:grad_descent:itr:320\tmean_step_size:3.5566673095070814e-08\tobj_value:-186.2071884681299\n",
      "INFO:grad_descent:itr:321\tmean_step_size:6.156894859963963e-07\tobj_value:-186.2071885047059\n",
      "INFO:grad_descent:itr:322\tmean_step_size:-2.0908240920281274e-07\tobj_value:-186.20718871936072\n",
      "INFO:grad_descent:itr:323\tmean_step_size:4.829274156259856e-07\tobj_value:-186.20718880853406\n",
      "INFO:grad_descent:itr:324\tmean_step_size:-1.0309189788936776e-07\tobj_value:-186.2071889384746\n",
      "INFO:grad_descent:itr:325\tmean_step_size:7.843232665660384e-07\tobj_value:-186.20718898940953\n",
      "INFO:grad_descent:itr:326\tmean_step_size:-2.636906788249509e-07\tobj_value:-186.20718923308868\n",
      "INFO:grad_descent:itr:327\tmean_step_size:4.96915287063904e-07\tobj_value:-186.20718928342652\n",
      "INFO:grad_descent:itr:328\tmean_step_size:-1.424611819791295e-07\tobj_value:-186.20718942011163\n",
      "INFO:grad_descent:itr:329\tmean_step_size:3.954889204872946e-07\tobj_value:-186.2071894984675\n",
      "INFO:grad_descent:itr:330\tmean_step_size:-1.2574355911418304e-07\tobj_value:-186.2071895124213\n",
      "INFO:grad_descent:itr:331\tmean_step_size:3.8866201291366906e-07\tobj_value:-186.20718967272123\n",
      "INFO:grad_descent:itr:332\tmean_step_size:-2.1636909816801846e-08\tobj_value:-186.2071897288041\n",
      "INFO:grad_descent:itr:333\tmean_step_size:2.882939724069822e-07\tobj_value:-186.20718982340063\n",
      "INFO:grad_descent:itr:334\tmean_step_size:9.079126005733001e-08\tobj_value:-186.20718983922364\n",
      "INFO:grad_descent:itr:335\tmean_step_size:4.186032446186448e-07\tobj_value:-186.2071900225515\n",
      "INFO:grad_descent:itr:336\tmean_step_size:-6.728757574863553e-08\tobj_value:-186.20719005113511\n",
      "INFO:grad_descent:itr:337\tmean_step_size:3.056011018110673e-07\tobj_value:-186.20719015169288\n",
      "INFO:grad_descent:itr:338\tmean_step_size:1.0039079657738186e-08\tobj_value:-186.2071902026683\n",
      "INFO:grad_descent:itr:339\tmean_step_size:2.2970457227040583e-07\tobj_value:-186.2071902654104\n",
      "INFO:grad_descent:itr:340\tmean_step_size:1.1916756562892086e-07\tobj_value:-186.20719030976957\n",
      "INFO:grad_descent:itr:341\tmean_step_size:3.2705953042248506e-07\tobj_value:-186.20719042168378\n",
      "INFO:grad_descent:itr:342\tmean_step_size:-2.661684801313834e-08\tobj_value:-186.20719045374162\n",
      "INFO:grad_descent:itr:343\tmean_step_size:2.4168360670147736e-07\tobj_value:-186.20719051828164\n",
      "INFO:grad_descent:itr:344\tmean_step_size:3.075671481092226e-08\tobj_value:-186.20719056192408\n",
      "INFO:grad_descent:itr:345\tmean_step_size:3.6841403010198394e-07\tobj_value:-186.20719057709067\n",
      "INFO:grad_descent:itr:346\tmean_step_size:-1.169894124238258e-07\tobj_value:-186.20719065125164\n",
      "INFO:grad_descent:itr:347\tmean_step_size:2.9067177641081826e-07\tobj_value:-186.20719068410685\n",
      "INFO:grad_descent:itr:348\tmean_step_size:-5.539850212794037e-08\tobj_value:-186.20719072942796\n",
      "INFO:grad_descent:itr:349\tmean_step_size:4.7492764651606733e-07\tobj_value:-186.20719075160218\n",
      "INFO:grad_descent:itr:350\tmean_step_size:-1.4911977541902736e-07\tobj_value:-186.2071908353354\n",
      "INFO:grad_descent:itr:351\tmean_step_size:2.978235248985292e-07\tobj_value:-186.20719085464108\n"
     ]
    },
    {
     "name": "stderr",
     "output_type": "stream",
     "text": [
      "INFO:grad_descent:itr:352\tmean_step_size:-7.866853732567587e-08\tobj_value:-186.2071909020181\n",
      "INFO:grad_descent:itr:353\tmean_step_size:2.384632947807708e-07\tobj_value:-186.2071909306772\n",
      "INFO:grad_descent:itr:354\tmean_step_size:-6.497617172524501e-08\tobj_value:-186.2071909374518\n",
      "INFO:grad_descent:itr:355\tmean_step_size:2.301200212437479e-07\tobj_value:-186.20719099268808\n",
      "INFO:grad_descent:itr:356\tmean_step_size:-4.760797552577097e-09\tobj_value:-186.20719101358355\n",
      "INFO:grad_descent:itr:357\tmean_step_size:1.7161511307407026e-07\tobj_value:-186.2071910465372\n",
      "INFO:grad_descent:itr:358\tmean_step_size:6.790240432085328e-08\tobj_value:-186.20719105539064\n",
      "INFO:grad_descent:itr:359\tmean_step_size:2.4729657342711865e-07\tobj_value:-186.2071911183273\n",
      "INFO:grad_descent:itr:360\tmean_step_size:-3.2164845257125656e-08\tobj_value:-186.20719112958483\n",
      "INFO:grad_descent:itr:361\tmean_step_size:1.814189846623371e-07\tobj_value:-186.20719116444255\n",
      "INFO:grad_descent:itr:362\tmean_step_size:1.2590070659437462e-08\tobj_value:-186.20719118319334\n",
      "INFO:grad_descent:itr:363\tmean_step_size:2.742258872875961e-07\tobj_value:-186.20719118522578\n",
      "INFO:grad_descent:itr:364\tmean_step_size:-9.59457249166735e-08\tobj_value:-186.20719122629123\n",
      "INFO:grad_descent:itr:365\tmean_step_size:2.1436767686644887e-07\tobj_value:-186.20719123941882\n",
      "INFO:grad_descent:itr:366\tmean_step_size:-4.8091228478657786e-08\tobj_value:-186.20719126343212\n",
      "INFO:grad_descent:itr:367\tmean_step_size:3.470137967333237e-07\tobj_value:-186.20719126466605\n",
      "INFO:grad_descent:itr:368\tmean_step_size:-1.2035574807802135e-07\tobj_value:-186.20719131205277\n",
      "INFO:grad_descent:itr:369\tmean_step_size:2.2074437123852136e-07\tobj_value:-186.20719131822077\n",
      "INFO:grad_descent:itr:370\tmean_step_size:-6.566181500208063e-08\tobj_value:-186.2071913440138\n",
      "INFO:grad_descent:itr:371\tmean_step_size:1.7510019456290148e-07\tobj_value:-186.2071913561606\n",
      "INFO:grad_descent:itr:372\tmean_step_size:-2.976735086143885e-08\tobj_value:-186.2071913720762\n",
      "INFO:grad_descent:itr:373\tmean_step_size:2.8764919795584313e-07\tobj_value:-186.20719138138637\n",
      "INFO:grad_descent:itr:374\tmean_step_size:-8.464565763208952e-08\tobj_value:-186.20719141035823\n",
      "INFO:grad_descent:itr:375\tmean_step_size:1.787472232164443e-07\tobj_value:-186.20719141773884\n",
      "INFO:grad_descent:itr:376\tmean_step_size:-4.357364750885772e-08\tobj_value:-186.207191434278\n",
      "INFO:grad_descent:itr:377\tmean_step_size:1.4390239811572432e-07\tobj_value:-186.20719144479912\n",
      "INFO:grad_descent:itr:378\tmean_step_size:-3.3372414860097764e-08\tobj_value:-186.20719144782896\n",
      "INFO:grad_descent:itr:379\tmean_step_size:1.3658794787233054e-07\tobj_value:-186.2071914670034\n",
      "INFO:grad_descent:itr:380\tmean_step_size:1.6011537013373297e-09\tobj_value:-186.20719147479946\n",
      "INFO:grad_descent:itr:381\tmean_step_size:1.0236030626369796e-07\tobj_value:-186.20719148635973\n",
      "INFO:grad_descent:itr:382\tmean_step_size:4.808900388835917e-08\tobj_value:-186.2071914906155\n",
      "INFO:grad_descent:itr:383\tmean_step_size:1.464533051716582e-07\tobj_value:-186.20719151237194\n",
      "INFO:grad_descent:itr:384\tmean_step_size:-1.4846277965922604e-08\tobj_value:-186.20719151676954\n",
      "INFO:grad_descent:itr:385\tmean_step_size:1.0791636270887565e-07\tobj_value:-186.2071915289336\n",
      "INFO:grad_descent:itr:386\tmean_step_size:1.1149452374014425e-08\tobj_value:-186.207191535853\n",
      "INFO:grad_descent:itr:387\tmean_step_size:1.6393936108443614e-07\tobj_value:-186.20719153704175\n",
      "INFO:grad_descent:itr:388\tmean_step_size:-5.42545930819543e-08\tobj_value:-186.207191551302\n",
      "INFO:grad_descent:itr:389\tmean_step_size:1.2881806440776055e-07\tobj_value:-186.20719155624906\n",
      "INFO:grad_descent:itr:390\tmean_step_size:-2.6350818396866568e-08\tobj_value:-186.20719156467035\n",
      "INFO:grad_descent:itr:391\tmean_step_size:2.0962901390720982e-07\tobj_value:-186.2071915659588\n",
      "INFO:grad_descent:itr:392\tmean_step_size:-6.866056319952071e-08\tobj_value:-186.20719158233297\n",
      "INFO:grad_descent:itr:393\tmean_step_size:1.3218983059519905e-07\tobj_value:-186.2071915848322\n",
      "INFO:grad_descent:itr:394\tmean_step_size:-3.676081490562504e-08\tobj_value:-186.20719159382188\n",
      "INFO:grad_descent:itr:395\tmean_step_size:1.0540826095848172e-07\tobj_value:-186.20719159833632\n",
      "INFO:grad_descent:itr:396\tmean_step_size:-1.5848591450873997e-08\tobj_value:-186.2071916039436\n",
      "INFO:grad_descent:itr:397\tmean_step_size:1.740569191318651e-07\tobj_value:-186.20719160780862\n",
      "INFO:grad_descent:itr:398\tmean_step_size:-4.798186509745579e-08\tobj_value:-186.2071916178496\n",
      "INFO:grad_descent:itr:399\tmean_step_size:1.0723388649670388e-07\tobj_value:-186.2071916206796\n",
      "INFO:grad_descent:itr:400\tmean_step_size:-2.4044421366963742e-08\tobj_value:-186.20719162646952\n",
      "INFO:grad_descent:itr:401\tmean_step_size:8.678296170274084e-08\tobj_value:-186.20719163035045\n",
      "INFO:grad_descent:itr:402\tmean_step_size:-1.678523414239488e-08\tobj_value:-186.20719163166527\n",
      "INFO:grad_descent:itr:403\tmean_step_size:8.10664994450221e-08\tobj_value:-186.2071916383369\n",
      "INFO:grad_descent:itr:404\tmean_step_size:3.5314055109345685e-09\tobj_value:-186.207191641258\n",
      "INFO:grad_descent:itr:405\tmean_step_size:6.103925364539123e-08\tobj_value:-186.20719164532616\n",
      "INFO:grad_descent:itr:406\tmean_step_size:3.30841354774942e-08\tobj_value:-186.20719164726293\n",
      "INFO:grad_descent:itr:407\tmean_step_size:8.67197032524693e-08\tobj_value:-186.20719165479528\n",
      "INFO:grad_descent:itr:408\tmean_step_size:-6.3253409806696484e-09\tobj_value:-186.2071916565142\n",
      "INFO:grad_descent:itr:409\tmean_step_size:6.417663058992522e-08\tobj_value:-186.20719166076884\n",
      "INFO:grad_descent:itr:410\tmean_step_size:8.771286760788646e-09\tobj_value:-186.20719166333382\n",
      "INFO:grad_descent:itr:411\tmean_step_size:9.796715442824503e-08\tobj_value:-186.20719166393465\n",
      "INFO:grad_descent:itr:412\tmean_step_size:-3.061496621148783e-08\tobj_value:-186.20719166889444\n",
      "INFO:grad_descent:itr:413\tmean_step_size:7.736925102693053e-08\tobj_value:-186.2071916707654\n",
      "INFO:grad_descent:itr:414\tmean_step_size:-1.4351702088748831e-08\tobj_value:-186.20719167372656\n",
      "INFO:grad_descent:itr:415\tmean_step_size:1.2654512903125887e-07\tobj_value:-186.207191674506\n",
      "INFO:grad_descent:itr:416\tmean_step_size:-3.912074510829174e-08\tobj_value:-186.20719168017058\n",
      "INFO:grad_descent:itr:417\tmean_step_size:7.913485516358877e-08\tobj_value:-186.2071916811772\n",
      "INFO:grad_descent:itr:418\tmean_step_size:-2.0521950227872665e-08\tobj_value:-186.2071916843173\n",
      "INFO:grad_descent:itr:419\tmean_step_size:6.342419614868149e-08\tobj_value:-186.2071916860014\n",
      "INFO:grad_descent:itr:420\tmean_step_size:-1.6683314999000384e-08\tobj_value:-186.20719168617697\n",
      "INFO:grad_descent:itr:421\tmean_step_size:6.096312705042236e-08\tobj_value:-186.20719168988256\n",
      "INFO:grad_descent:itr:422\tmean_step_size:-8.364770449625773e-10\tobj_value:-186.20719169106297\n",
      "INFO:grad_descent:itr:423\tmean_step_size:4.5515632621477706e-08\tobj_value:-186.20719169322817\n",
      "INFO:grad_descent:itr:424\tmean_step_size:1.8703105663415315e-08\tobj_value:-186.20719169333833\n",
      "INFO:grad_descent:itr:425\tmean_step_size:6.549535328406686e-08\tobj_value:-186.20719169761145\n",
      "INFO:grad_descent:itr:426\tmean_step_size:-8.172384804837492e-09\tobj_value:-186.20719169817005\n",
      "INFO:grad_descent:itr:427\tmean_step_size:4.809408258430041e-08\tobj_value:-186.20719170049483\n",
      "INFO:grad_descent:itr:428\tmean_step_size:3.622179333642744e-09\tobj_value:-186.2071917015932\n",
      "INFO:grad_descent:itr:429\tmean_step_size:3.638136021315774e-08\tobj_value:-186.20719170302823\n",
      "INFO:grad_descent:itr:430\tmean_step_size:2.2317207635395635e-08\tobj_value:-186.2071917038792\n",
      "INFO:grad_descent:itr:431\tmean_step_size:5.132494943926336e-08\tobj_value:-186.2071917064888\n",
      "INFO:grad_descent:itr:432\tmean_step_size:-2.2772103404274407e-09\tobj_value:-186.2071917071606\n",
      "INFO:grad_descent:itr:433\tmean_step_size:3.814563489525535e-08\tobj_value:-186.20719170865132\n",
      "INFO:grad_descent:itr:434\tmean_step_size:6.482502023902575e-09\tobj_value:-186.20719170960572\n",
      "INFO:grad_descent:itr:435\tmean_step_size:5.851019637203317e-08\tobj_value:-186.2071917098874\n",
      "INFO:grad_descent:itr:436\tmean_step_size:-1.721873102764098e-08\tobj_value:-186.20719171161412\n",
      "INFO:grad_descent:itr:437\tmean_step_size:4.643977703926435e-08\tobj_value:-186.2071917123236\n",
      "INFO:grad_descent:itr:438\tmean_step_size:-7.748761195477223e-09\tobj_value:-186.207191713367\n",
      "INFO:grad_descent:itr:439\tmean_step_size:7.633387012653206e-08\tobj_value:-186.2071917137662\n"
     ]
    },
    {
     "name": "stderr",
     "output_type": "stream",
     "text": [
      "INFO:grad_descent:itr:440\tmean_step_size:-2.2239853078372348e-08\tobj_value:-186.20719171572668\n",
      "INFO:grad_descent:itr:441\tmean_step_size:4.735000892278535e-08\tobj_value:-186.20719171612998\n",
      "INFO:grad_descent:itr:442\tmean_step_size:-1.1405359259846268e-08\tobj_value:-186.20719171722857\n",
      "INFO:grad_descent:itr:443\tmean_step_size:3.813992618878083e-08\tobj_value:-186.20719171785873\n",
      "INFO:grad_descent:itr:444\tmean_step_size:-8.633746263413095e-09\tobj_value:-186.20719171797273\n",
      "INFO:grad_descent:itr:445\tmean_step_size:3.611361028577141e-08\tobj_value:-186.2071917192606\n",
      "INFO:grad_descent:itr:446\tmean_step_size:5.736742804778841e-10\tobj_value:-186.20719171971334\n",
      "INFO:grad_descent:itr:447\tmean_step_size:2.7080977138541406e-08\tobj_value:-186.20719172047507\n",
      "INFO:grad_descent:itr:448\tmean_step_size:1.2963082549785859e-08\tobj_value:-186.20719172060615\n",
      "INFO:grad_descent:itr:449\tmean_step_size:3.871230470964813e-08\tobj_value:-186.20719172208325\n",
      "INFO:grad_descent:itr:450\tmean_step_size:-3.80706330804209e-09\tobj_value:-186.2071917223157\n",
      "INFO:grad_descent:itr:451\tmean_step_size:2.8540430320257884e-08\tobj_value:-186.20719172312792\n",
      "INFO:grad_descent:itr:452\tmean_step_size:3.0424071648361377e-09\tobj_value:-186.20719172354148\n",
      "INFO:grad_descent:itr:453\tmean_step_size:2.168825989089907e-08\tobj_value:-186.20719172404935\n",
      "INFO:grad_descent:itr:454\tmean_step_size:1.48167956519121e-08\tobj_value:-186.20719172441204\n",
      "INFO:grad_descent:itr:455\tmean_step_size:3.038503832586302e-08\tobj_value:-186.20719172531807\n",
      "INFO:grad_descent:itr:456\tmean_step_size:-4.871899829354408e-10\tobj_value:-186.2071917255798\n",
      "INFO:grad_descent:itr:457\tmean_step_size:2.2677859822359716e-08\tobj_value:-186.20719172610353\n",
      "INFO:grad_descent:itr:458\tmean_step_size:4.59618881791792e-09\tobj_value:-186.20719172645943\n",
      "INFO:grad_descent:itr:459\tmean_step_size:3.494817689729204e-08\tobj_value:-186.20719172658477\n",
      "INFO:grad_descent:itr:460\tmean_step_size:-9.664164410543536e-09\tobj_value:-186.20719172718728\n",
      "INFO:grad_descent:itr:461\tmean_step_size:2.787385467595911e-08\tobj_value:-186.20719172745652\n",
      "INFO:grad_descent:itr:462\tmean_step_size:-4.149413278294661e-09\tobj_value:-186.2071917278252\n",
      "INFO:grad_descent:itr:463\tmean_step_size:4.603565176907387e-08\tobj_value:-186.20719172801205\n",
      "INFO:grad_descent:itr:464\tmean_step_size:-1.2629541768086465e-08\tobj_value:-186.20719172869184\n",
      "INFO:grad_descent:itr:465\tmean_step_size:2.833458938943345e-08\tobj_value:-186.20719172885222\n",
      "INFO:grad_descent:itr:466\tmean_step_size:-6.317256265058369e-09\tobj_value:-186.20719172923748\n",
      "INFO:grad_descent:itr:467\tmean_step_size:2.2934109577652542e-08\tobj_value:-186.20719172947366\n",
      "INFO:grad_descent:itr:468\tmean_step_size:-4.382885381790114e-09\tobj_value:-186.20719172953306\n",
      "INFO:grad_descent:itr:469\tmean_step_size:2.139977481279113e-08\tobj_value:-186.20719172998173\n",
      "INFO:grad_descent:itr:470\tmean_step_size:9.679814821907334e-10\tobj_value:-186.2071917301552\n",
      "INFO:grad_descent:itr:471\tmean_step_size:1.6116585794615565e-08\tobj_value:-186.20719173042392\n",
      "INFO:grad_descent:itr:472\tmean_step_size:8.788378866911284e-09\tobj_value:-186.20719173050404\n",
      "INFO:grad_descent:itr:473\tmean_step_size:2.2888505279618237e-08\tobj_value:-186.2071917310156\n",
      "INFO:grad_descent:itr:474\tmean_step_size:-1.647515727737093e-09\tobj_value:-186.20719173111078\n",
      "INFO:grad_descent:itr:475\tmean_step_size:1.6941091106812117e-08\tobj_value:-186.20719173139523\n",
      "INFO:grad_descent:itr:476\tmean_step_size:2.33055088772312e-09\tobj_value:-186.20719173155112\n",
      "INFO:grad_descent:itr:477\tmean_step_size:2.586308472283936e-08\tobj_value:-186.20719173157136\n",
      "INFO:grad_descent:itr:478\tmean_step_size:-8.07199018715083e-09\tobj_value:-186.20719173190636\n",
      "INFO:grad_descent:itr:479\tmean_step_size:2.042368048472726e-08\tobj_value:-186.2071917320166\n",
      "INFO:grad_descent:itr:480\tmean_step_size:-3.78192133961209e-09\tobj_value:-186.2071917322132\n",
      "INFO:grad_descent:itr:481\tmean_step_size:3.340207730111384e-08\tobj_value:-186.20719173223094\n",
      "INFO:grad_descent:itr:482\tmean_step_size:-1.0318085820811035e-08\tobj_value:-186.20719173261676\n",
      "INFO:grad_descent:itr:483\tmean_step_size:2.087954947907597e-08\tobj_value:-186.20719173267062\n",
      "INFO:grad_descent:itr:484\tmean_step_size:-5.412055220010024e-09\tobj_value:-186.2071917328814\n",
      "INFO:grad_descent:itr:485\tmean_step_size:1.673210179170518e-08\tobj_value:-186.20719173298352\n",
      "INFO:grad_descent:itr:486\tmean_step_size:-2.199910829112068e-09\tobj_value:-186.2071917331142\n",
      "INFO:grad_descent:itr:487\tmean_step_size:2.776148183595645e-08\tobj_value:-186.20719173319702\n",
      "INFO:grad_descent:itr:488\tmean_step_size:-7.164197435073649e-09\tobj_value:-186.20719173343326\n",
      "INFO:grad_descent:itr:489\tmean_step_size:1.695946778962687e-08\tobj_value:-186.2071917334966\n",
      "INFO:grad_descent:itr:490\tmean_step_size:-3.485692498440371e-09\tobj_value:-186.20719173363213\n",
      "INFO:grad_descent:itr:491\tmean_step_size:1.3791707089655467e-08\tobj_value:-186.2071917337207\n",
      "INFO:grad_descent:itr:492\tmean_step_size:-2.167397844694683e-09\tobj_value:-186.2071917337487\n",
      "INFO:grad_descent:itr:493\tmean_step_size:1.2686130574393359e-08\tobj_value:-186.20719173390535\n",
      "INFO:grad_descent:itr:494\tmean_step_size:9.430825065758656e-10\tobj_value:-186.20719173397174\n",
      "INFO:grad_descent:itr:495\tmean_step_size:9.594842142811136e-09\tobj_value:-186.20719173406684\n",
      "INFO:grad_descent:itr:496\tmean_step_size:5.860856162605927e-09\tobj_value:-186.20719173410748\n",
      "INFO:grad_descent:itr:497\tmean_step_size:1.3538421462994921e-08\tobj_value:-186.20719173428498\n",
      "INFO:grad_descent:itr:498\tmean_step_size:-6.185549738172813e-10\tobj_value:-186.20719173432346\n",
      "INFO:grad_descent:itr:499\tmean_step_size:1.0059814407357301e-08\tobj_value:-186.2071917344233\n",
      "INFO:grad_descent:itr:500\tmean_step_size:1.6922837538411941e-09\tobj_value:-186.20719173448214\n",
      "INFO:grad_descent:itr:501\tmean_step_size:1.5425673226834262e-08\tobj_value:-186.2071917344944\n",
      "INFO:grad_descent:itr:502\tmean_step_size:-4.555288895481458e-09\tobj_value:-186.2071917346112\n",
      "INFO:grad_descent:itr:503\tmean_step_size:1.2238177394902695e-08\tobj_value:-186.20719173465383\n",
      "INFO:grad_descent:itr:504\tmean_step_size:-2.0556667354805392e-09\tobj_value:-186.20719173472327\n",
      "INFO:grad_descent:itr:505\tmean_step_size:2.0107249584598975e-08\tobj_value:-186.20719173473864\n",
      "INFO:grad_descent:itr:506\tmean_step_size:-5.880900263494819e-09\tobj_value:-186.2071917348723\n",
      "INFO:grad_descent:itr:507\tmean_step_size:1.2475970751155694e-08\tobj_value:-186.20719173489488\n",
      "INFO:grad_descent:itr:508\tmean_step_size:-3.02115917018678e-09\tobj_value:-186.20719173496875\n",
      "INFO:grad_descent:itr:509\tmean_step_size:1.0044393342909718e-08\tobj_value:-186.20719173500754\n",
      "INFO:grad_descent:itr:510\tmean_step_size:-2.3007492765541877e-09\tobj_value:-186.20719173501055\n",
      "INFO:grad_descent:itr:511\tmean_step_size:9.520291305302096e-09\tobj_value:-186.20719173509795\n",
      "INFO:grad_descent:itr:512\tmean_step_size:1.2855125500031574e-10\tobj_value:-186.20719173512487\n",
      "INFO:grad_descent:itr:513\tmean_step_size:7.136347174896586e-09\tobj_value:-186.2071917351758\n",
      "INFO:grad_descent:itr:514\tmean_step_size:1.6874321965212468e-09\tobj_value:-186.20719173521164\n",
      "INFO:grad_descent:itr:515\tmean_step_size:1.1050349621015296e-08\tobj_value:-186.20719173522542\n",
      "INFO:grad_descent:itr:516\tmean_step_size:-2.8554053148532934e-09\tobj_value:-186.2071917352837\n",
      "INFO:grad_descent:itr:517\tmean_step_size:8.856896694690245e-09\tobj_value:-186.20719173531108\n",
      "INFO:grad_descent:itr:518\tmean_step_size:-1.1576087275218153e-09\tobj_value:-186.2071917353471\n",
      "INFO:grad_descent:itr:519\tmean_step_size:1.4697425043271832e-08\tobj_value:-186.2071917353681\n",
      "INFO:grad_descent:itr:520\tmean_step_size:-3.7825760463891634e-09\tobj_value:-186.20719173543364\n",
      "INFO:grad_descent:itr:521\tmean_step_size:8.975032040406937e-09\tobj_value:-186.2071917354504\n",
      "INFO:grad_descent:itr:522\tmean_step_size:-1.8382132339913823e-09\tobj_value:-186.2071917354878\n",
      "INFO:grad_descent:itr:523\tmean_step_size:7.299717699422922e-09\tobj_value:-186.2071917355117\n",
      "INFO:grad_descent:itr:524\tmean_step_size:-1.1373993728309344e-09\tobj_value:-186.20719173551873\n",
      "INFO:grad_descent:itr:525\tmean_step_size:6.710468150575958e-09\tobj_value:-186.2071917355621\n",
      "INFO:grad_descent:itr:526\tmean_step_size:5.062903454186314e-10\tobj_value:-186.20719173557987\n",
      "INFO:grad_descent:itr:527\tmean_step_size:5.076018038894302e-09\tobj_value:-186.2071917356061\n"
     ]
    },
    {
     "name": "stderr",
     "output_type": "stream",
     "text": [
      "INFO:grad_descent:itr:528:early stopping!\n"
     ]
    }
   ],
   "source": [
    "# x = np.random.randn(n,1)\n",
    "x0 = np.zeros((n,1))\n",
    "obj_func = partial(obj, a=A)\n",
    "grad_func = partial(grad, a=A)\n",
    "in_domain_func = partial(is_in_domain, a=A)\n",
    "logger = logging.getLogger(\"grad_descent\")\n",
    "x_prime, x_hist =\\\n",
    "        gradient_decent(obj_func, grad_func, in_domain_func, x0, logger=logger, max_itr=10 ** 4)"
   ]
  },
  {
   "cell_type": "code",
   "execution_count": 75,
   "metadata": {
    "hidden": true,
    "pycharm": {}
   },
   "outputs": [
    {
     "name": "stderr",
     "output_type": "stream",
     "text": [
      "WARNING:root:CurvePlot01414: Logarithmic axis range encountered value less than or equal to zero, please supply explicit lower-bound to override default of 1.862.\n"
     ]
    },
    {
     "data": {
      "application/javascript": [
       "\n",
       "// Ugly hack - see HoloViews #2574 for more information\n",
       "if (!(document.getElementById('1693')) && !(document.getElementById('_anim_imgNone'))) {\n",
       "  console.log(\"Creating DOM nodes dynamically for assumed nbconvert export. To generate clean HTML output set HV_DOC_HTML as an environment variable.\")\n",
       "  var htmlObject = document.createElement('div');\n",
       "  htmlObject.innerHTML = `<div id='1693' style='display: table; margin: 0 auto;'>\n",
       "\n",
       "\n",
       "\n",
       "\n",
       "\n",
       "  <div class=\"bk-root\" id=\"f0cacc6d-83b0-46f3-b806-cfe2c1a6dfe1\"></div>\n",
       "</div>`;\n",
       "  var scriptTags = document.getElementsByTagName('script');\n",
       "  var parentTag = scriptTags[scriptTags.length-1].parentNode;\n",
       "  parentTag.append(htmlObject)\n",
       "}\n",
       "(function(root) {\n",
       "  function embed_document(root) {\n",
       "    \n",
       "  var docs_json = {\"f9e95969-2b05-44e8-8f02-b5ae2be67fff\":{\"roots\":{\"references\":[{\"attributes\":{\"below\":[{\"id\":\"1701\",\"type\":\"LinearAxis\"}],\"left\":[{\"id\":\"1706\",\"type\":\"LogAxis\"}],\"min_border_bottom\":10,\"min_border_left\":10,\"min_border_right\":10,\"min_border_top\":10,\"plot_height\":300,\"plot_width\":800,\"renderers\":[{\"id\":\"1701\",\"type\":\"LinearAxis\"},{\"id\":\"1705\",\"type\":\"Grid\"},{\"id\":\"1706\",\"type\":\"LogAxis\"},{\"id\":\"1710\",\"type\":\"Grid\"},{\"id\":\"1719\",\"type\":\"BoxAnnotation\"},{\"id\":\"1729\",\"type\":\"GlyphRenderer\"}],\"title\":{\"id\":\"1692\",\"type\":\"Title\"},\"toolbar\":{\"id\":\"1716\",\"type\":\"Toolbar\"},\"x_range\":{\"id\":\"1690\",\"type\":\"Range1d\"},\"x_scale\":{\"id\":\"1697\",\"type\":\"LinearScale\"},\"y_range\":{\"id\":\"1691\",\"type\":\"Range1d\"},\"y_scale\":{\"id\":\"1699\",\"type\":\"LogScale\"}},\"id\":\"1693\",\"subtype\":\"Figure\",\"type\":\"Plot\"},{\"attributes\":{},\"id\":\"1699\",\"type\":\"LogScale\"},{\"attributes\":{\"line_alpha\":0.1,\"line_color\":\"#30a2da\",\"line_width\":2,\"x\":{\"field\":\"index\"},\"y\":{\"field\":\"f(x_itr)-f(x_prime)\"}},\"id\":\"1727\",\"type\":\"Line\"},{\"attributes\":{},\"id\":\"1740\",\"type\":\"Selection\"},{\"attributes\":{\"ticker\":null},\"id\":\"1734\",\"type\":\"LogTickFormatter\"},{\"attributes\":{\"overlay\":{\"id\":\"1719\",\"type\":\"BoxAnnotation\"}},\"id\":\"1714\",\"type\":\"BoxZoomTool\"},{\"attributes\":{},\"id\":\"1712\",\"type\":\"PanTool\"},{\"attributes\":{},\"id\":\"1713\",\"type\":\"WheelZoomTool\"},{\"attributes\":{\"active_drag\":\"auto\",\"active_inspect\":\"auto\",\"active_multi\":null,\"active_scroll\":\"auto\",\"active_tap\":\"auto\",\"tools\":[{\"id\":\"1711\",\"type\":\"SaveTool\"},{\"id\":\"1712\",\"type\":\"PanTool\"},{\"id\":\"1713\",\"type\":\"WheelZoomTool\"},{\"id\":\"1714\",\"type\":\"BoxZoomTool\"},{\"id\":\"1715\",\"type\":\"ResetTool\"}]},\"id\":\"1716\",\"type\":\"Toolbar\"},{\"attributes\":{\"source\":{\"id\":\"1724\",\"type\":\"ColumnDataSource\"}},\"id\":\"1730\",\"type\":\"CDSView\"},{\"attributes\":{},\"id\":\"1711\",\"type\":\"SaveTool\"},{\"attributes\":{\"data_source\":{\"id\":\"1724\",\"type\":\"ColumnDataSource\"},\"glyph\":{\"id\":\"1726\",\"type\":\"Line\"},\"hover_glyph\":null,\"muted_glyph\":{\"id\":\"1728\",\"type\":\"Line\"},\"nonselection_glyph\":{\"id\":\"1727\",\"type\":\"Line\"},\"selection_glyph\":null,\"view\":{\"id\":\"1730\",\"type\":\"CDSView\"}},\"id\":\"1729\",\"type\":\"GlyphRenderer\"},{\"attributes\":{\"callback\":null,\"data\":{\"f(x_itr)-f(x_prime)\":{\"__ndarray__\":\"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\",\"dtype\":\"float64\",\"shape\":[529]},\"index\":[0,1,2,3,4,5,6,7,8,9,10,11,12,13,14,15,16,17,18,19,20,21,22,23,24,25,26,27,28,29,30,31,32,33,34,35,36,37,38,39,40,41,42,43,44,45,46,47,48,49,50,51,52,53,54,55,56,57,58,59,60,61,62,63,64,65,66,67,68,69,70,71,72,73,74,75,76,77,78,79,80,81,82,83,84,85,86,87,88,89,90,91,92,93,94,95,96,97,98,99,100,101,102,103,104,105,106,107,108,109,110,111,112,113,114,115,116,117,118,119,120,121,122,123,124,125,126,127,128,129,130,131,132,133,134,135,136,137,138,139,140,141,142,143,144,145,146,147,148,149,150,151,152,153,154,155,156,157,158,159,160,161,162,163,164,165,166,167,168,169,170,171,172,173,174,175,176,177,178,179,180,181,182,183,184,185,186,187,188,189,190,191,192,193,194,195,196,197,198,199,200,201,202,203,204,205,206,207,208,209,210,211,212,213,214,215,216,217,218,219,220,221,222,223,224,225,226,227,228,229,230,231,232,233,234,235,236,237,238,239,240,241,242,243,244,245,246,247,248,249,250,251,252,253,254,255,256,257,258,259,260,261,262,263,264,265,266,267,268,269,270,271,272,273,274,275,276,277,278,279,280,281,282,283,284,285,286,287,288,289,290,291,292,293,294,295,296,297,298,299,300,301,302,303,304,305,306,307,308,309,310,311,312,313,314,315,316,317,318,319,320,321,322,323,324,325,326,327,328,329,330,331,332,333,334,335,336,337,338,339,340,341,342,343,344,345,346,347,348,349,350,351,352,353,354,355,356,357,358,359,360,361,362,363,364,365,366,367,368,369,370,371,372,373,374,375,376,377,378,379,380,381,382,383,384,385,386,387,388,389,390,391,392,393,394,395,396,397,398,399,400,401,402,403,404,405,406,407,408,409,410,411,412,413,414,415,416,417,418,419,420,421,422,423,424,425,426,427,428,429,430,431,432,433,434,435,436,437,438,439,440,441,442,443,444,445,446,447,448,449,450,451,452,453,454,455,456,457,458,459,460,461,462,463,464,465,466,467,468,469,470,471,472,473,474,475,476,477,478,479,480,481,482,483,484,485,486,487,488,489,490,491,492,493,494,495,496,497,498,499,500,501,502,503,504,505,506,507,508,509,510,511,512,513,514,515,516,517,518,519,520,521,522,523,524,525,526,527,528]},\"selected\":{\"id\":\"1740\",\"type\":\"Selection\"},\"selection_policy\":{\"id\":\"1741\",\"type\":\"UnionRenderers\"}},\"id\":\"1724\",\"type\":\"ColumnDataSource\"},{\"attributes\":{},\"id\":\"1732\",\"type\":\"BasicTickFormatter\"},{\"attributes\":{\"callback\":null,\"end\":186.2071917356061,\"reset_end\":186.2071917356061,\"reset_start\":1.8620719173560616,\"start\":1.8620719173560616},\"id\":\"1691\",\"type\":\"Range1d\"},{\"attributes\":{\"axis_label\":\"f(x_itr)-f(x_prime)\",\"bounds\":\"auto\",\"formatter\":{\"id\":\"1734\",\"type\":\"LogTickFormatter\"},\"major_label_orientation\":\"horizontal\",\"plot\":{\"id\":\"1693\",\"subtype\":\"Figure\",\"type\":\"Plot\"},\"ticker\":{\"id\":\"1707\",\"type\":\"LogTicker\"}},\"id\":\"1706\",\"type\":\"LogAxis\"},{\"attributes\":{\"line_color\":\"#30a2da\",\"line_width\":2,\"x\":{\"field\":\"index\"},\"y\":{\"field\":\"f(x_itr)-f(x_prime)\"}},\"id\":\"1726\",\"type\":\"Line\"},{\"attributes\":{\"callback\":null,\"end\":528,\"reset_end\":528,\"reset_start\":0},\"id\":\"1690\",\"type\":\"Range1d\"},{\"attributes\":{\"num_minor_ticks\":10},\"id\":\"1707\",\"type\":\"LogTicker\"},{\"attributes\":{\"line_alpha\":0.2,\"line_color\":\"#30a2da\",\"line_width\":2,\"x\":{\"field\":\"index\"},\"y\":{\"field\":\"f(x_itr)-f(x_prime)\"}},\"id\":\"1728\",\"type\":\"Line\"},{\"attributes\":{\"dimension\":1,\"grid_line_color\":{\"value\":null},\"plot\":{\"id\":\"1693\",\"subtype\":\"Figure\",\"type\":\"Plot\"},\"ticker\":{\"id\":\"1707\",\"type\":\"LogTicker\"}},\"id\":\"1710\",\"type\":\"Grid\"},{\"attributes\":{},\"id\":\"1715\",\"type\":\"ResetTool\"},{\"attributes\":{\"plot\":null,\"text\":\"\",\"text_color\":{\"value\":\"black\"},\"text_font_size\":{\"value\":\"12pt\"}},\"id\":\"1692\",\"type\":\"Title\"},{\"attributes\":{\"bottom_units\":\"screen\",\"fill_alpha\":{\"value\":0.5},\"fill_color\":{\"value\":\"lightgrey\"},\"left_units\":\"screen\",\"level\":\"overlay\",\"line_alpha\":{\"value\":1.0},\"line_color\":{\"value\":\"black\"},\"line_dash\":[4,4],\"line_width\":{\"value\":2},\"plot\":null,\"render_mode\":\"css\",\"right_units\":\"screen\",\"top_units\":\"screen\"},\"id\":\"1719\",\"type\":\"BoxAnnotation\"},{\"attributes\":{},\"id\":\"1702\",\"type\":\"BasicTicker\"},{\"attributes\":{\"grid_line_color\":{\"value\":null},\"plot\":{\"id\":\"1693\",\"subtype\":\"Figure\",\"type\":\"Plot\"},\"ticker\":{\"id\":\"1702\",\"type\":\"BasicTicker\"}},\"id\":\"1705\",\"type\":\"Grid\"},{\"attributes\":{},\"id\":\"1697\",\"type\":\"LinearScale\"},{\"attributes\":{\"axis_label\":\"index\",\"bounds\":\"auto\",\"formatter\":{\"id\":\"1732\",\"type\":\"BasicTickFormatter\"},\"major_label_orientation\":\"horizontal\",\"plot\":{\"id\":\"1693\",\"subtype\":\"Figure\",\"type\":\"Plot\"},\"ticker\":{\"id\":\"1702\",\"type\":\"BasicTicker\"}},\"id\":\"1701\",\"type\":\"LinearAxis\"},{\"attributes\":{},\"id\":\"1741\",\"type\":\"UnionRenderers\"}],\"root_ids\":[\"1693\"]},\"title\":\"Bokeh Application\",\"version\":\"1.0.2\"}};\n",
       "  var render_items = [{\"docid\":\"f9e95969-2b05-44e8-8f02-b5ae2be67fff\",\"roots\":{\"1693\":\"f0cacc6d-83b0-46f3-b806-cfe2c1a6dfe1\"}}];\n",
       "  root.Bokeh.embed.embed_items_notebook(docs_json, render_items);\n",
       "\n",
       "  }\n",
       "  if (root.Bokeh !== undefined) {\n",
       "    embed_document(root);\n",
       "  } else {\n",
       "    var attempts = 0;\n",
       "    var timer = setInterval(function(root) {\n",
       "      if (root.Bokeh !== undefined) {\n",
       "        embed_document(root);\n",
       "        clearInterval(timer);\n",
       "      }\n",
       "      attempts++;\n",
       "      if (attempts > 100) {\n",
       "        console.log(\"Bokeh: ERROR: Unable to run BokehJS code because BokehJS library is missing\");\n",
       "        clearInterval(timer);\n",
       "      }\n",
       "    }, 10, root)\n",
       "  }\n",
       "})(window);"
      ],
      "application/vnd.holoviews_exec.v0+json": "",
      "text/html": [
       "<div id='1693' style='display: table; margin: 0 auto;'>\n",
       "\n",
       "\n",
       "\n",
       "\n",
       "\n",
       "  <div class=\"bk-root\" id=\"f0cacc6d-83b0-46f3-b806-cfe2c1a6dfe1\"></div>\n",
       "</div>"
      ],
      "text/plain": [
       ":Curve   [index]   (f(x_itr)-f(x_prime))"
      ]
     },
     "execution_count": 75,
     "metadata": {
      "application/vnd.holoviews_exec.v0+json": {
       "id": "1693"
      }
     },
     "output_type": "execute_result"
    }
   ],
   "source": [
    "to_show=pd.DataFrame(x_hist - x_hist[-1],columns=[\"f(x_itr)-f(x_prime)\"])\n",
    "hv.Curve(to_show).options(width=800,logy=True)"
   ]
  },
  {
   "cell_type": "markdown",
   "metadata": {
    "hidden": true,
    "pycharm": {}
   },
   "source": [
    "### Newton descent"
   ]
  },
  {
   "cell_type": "code",
   "execution_count": 76,
   "metadata": {
    "hidden": true,
    "pycharm": {}
   },
   "outputs": [],
   "source": [
    "logger = logging.getLogger(\"hess_descent\")"
   ]
  },
  {
   "cell_type": "code",
   "execution_count": 77,
   "metadata": {
    "hidden": true,
    "pycharm": {}
   },
   "outputs": [],
   "source": [
    "def hess(x, a):\n",
    "    return a.T.dot(np.diag(1/((1-a.dot(x))**2).squeeze())).dot(a) + np.diag((1/((1-x)**2) + 1/((1+x)**2)).squeeze())\n",
    "\n",
    "def newton_decent(obj_func, grad_func, in_domain_func, hess_func, tol, x0, logger, max_itr=10 ** 4):\n",
    "    x_itr = x0\n",
    "    fx = [obj_func(x0)]\n",
    "    for k in range(max_itr):\n",
    "\n",
    "        grad_itr = grad_func(x_itr)\n",
    "        hess_itr = hess_func(x_itr)\n",
    "\n",
    "        # compute newton step and decrement\n",
    "        step_size_itr = -np.linalg.inv(hess_itr).dot(grad_itr)\n",
    "        newton_decrement = grad_itr.T.dot(-step_size_itr)\n",
    "\n",
    "        if newton_decrement / 2 <= tol:\n",
    "            logger.info(f\"itr:{k}:early stopping!\")\n",
    "            break\n",
    "\n",
    "        # line search\n",
    "        t_itr = backtracking(obj_func, x_itr, step_size_itr, grad_itr, in_domain_func, ALPHA, BETA)\n",
    "\n",
    "        # GD update\n",
    "        x_itr += t_itr * step_size_itr\n",
    "        fx += [obj_func(x_itr)]\n",
    "\n",
    "        logger.info(f\"itr:{k}\\tmean_step_size:{t_itr * step_size_itr.mean()}\\tobj_value:{fx[-1]}\")\n",
    "\n",
    "    return x_itr, fx"
   ]
  },
  {
   "cell_type": "code",
   "execution_count": 81,
   "metadata": {
    "hidden": true,
    "pycharm": {}
   },
   "outputs": [
    {
     "name": "stderr",
     "output_type": "stream",
     "text": [
      "INFO:NewtonDescent:itr:0\tmean_step_size:-0.016548716513128742\tobj_value:-77.10672799105839\n",
      "INFO:NewtonDescent:itr:1\tmean_step_size:-0.027768224656827573\tobj_value:-149.18955123328587\n",
      "INFO:NewtonDescent:itr:2\tmean_step_size:-0.020918872742010822\tobj_value:-173.82437945034673\n",
      "INFO:NewtonDescent:itr:3\tmean_step_size:-0.02318278966406316\tobj_value:-184.0054218888269\n",
      "INFO:NewtonDescent:itr:4\tmean_step_size:0.002657355988206228\tobj_value:-185.492794146569\n",
      "INFO:NewtonDescent:itr:5\tmean_step_size:0.0009207794220105995\tobj_value:-186.02799864488358\n",
      "INFO:NewtonDescent:itr:6\tmean_step_size:0.0006100945176335759\tobj_value:-186.19038090692112\n",
      "INFO:NewtonDescent:itr:7\tmean_step_size:0.00026387058277400763\tobj_value:-186.20700249371865\n",
      "INFO:NewtonDescent:itr:8\tmean_step_size:2.731534997547287e-05\tobj_value:-186.20719170576498\n",
      "INFO:NewtonDescent:itr:9:early stopping!\n"
     ]
    }
   ],
   "source": [
    "hess_func = partial(hess, a=A)\n",
    "tol = 10**-6\n",
    "x0 = np.zeros((n,1))\n",
    "logger = logging.getLogger(\"NewtonDescent\")\n",
    "x_prime, x_hist =\\\n",
    "        newton_decent(obj_func, grad_func, in_domain_func, hess_func, tol, x0, logger=logger, max_itr=10 ** 4)"
   ]
  },
  {
   "cell_type": "code",
   "execution_count": 82,
   "metadata": {
    "hidden": true,
    "pycharm": {}
   },
   "outputs": [
    {
     "name": "stderr",
     "output_type": "stream",
     "text": [
      "WARNING:root:CurvePlot01472: Logarithmic axis range encountered value less than or equal to zero, please supply explicit lower-bound to override default of 1.862.\n"
     ]
    },
    {
     "data": {
      "application/javascript": [
       "\n",
       "// Ugly hack - see HoloViews #2574 for more information\n",
       "if (!(document.getElementById('1802')) && !(document.getElementById('_anim_imgNone'))) {\n",
       "  console.log(\"Creating DOM nodes dynamically for assumed nbconvert export. To generate clean HTML output set HV_DOC_HTML as an environment variable.\")\n",
       "  var htmlObject = document.createElement('div');\n",
       "  htmlObject.innerHTML = `<div id='1802' style='display: table; margin: 0 auto;'>\n",
       "\n",
       "\n",
       "\n",
       "\n",
       "\n",
       "  <div class=\"bk-root\" id=\"b59419b8-97ae-40d1-b238-704238e2b636\"></div>\n",
       "</div>`;\n",
       "  var scriptTags = document.getElementsByTagName('script');\n",
       "  var parentTag = scriptTags[scriptTags.length-1].parentNode;\n",
       "  parentTag.append(htmlObject)\n",
       "}\n",
       "(function(root) {\n",
       "  function embed_document(root) {\n",
       "    \n",
       "  var docs_json = {\"a5a796f3-6f93-4ab8-ba9d-b4bbf0daef0c\":{\"roots\":{\"references\":[{\"attributes\":{\"below\":[{\"id\":\"1810\",\"type\":\"LinearAxis\"}],\"left\":[{\"id\":\"1815\",\"type\":\"LogAxis\"}],\"min_border_bottom\":10,\"min_border_left\":10,\"min_border_right\":10,\"min_border_top\":10,\"plot_height\":300,\"plot_width\":800,\"renderers\":[{\"id\":\"1810\",\"type\":\"LinearAxis\"},{\"id\":\"1814\",\"type\":\"Grid\"},{\"id\":\"1815\",\"type\":\"LogAxis\"},{\"id\":\"1819\",\"type\":\"Grid\"},{\"id\":\"1828\",\"type\":\"BoxAnnotation\"},{\"id\":\"1838\",\"type\":\"GlyphRenderer\"}],\"title\":{\"id\":\"1801\",\"type\":\"Title\"},\"toolbar\":{\"id\":\"1825\",\"type\":\"Toolbar\"},\"x_range\":{\"id\":\"1799\",\"type\":\"Range1d\"},\"x_scale\":{\"id\":\"1806\",\"type\":\"LinearScale\"},\"y_range\":{\"id\":\"1800\",\"type\":\"Range1d\"},\"y_scale\":{\"id\":\"1808\",\"type\":\"LogScale\"}},\"id\":\"1802\",\"subtype\":\"Figure\",\"type\":\"Plot\"},{\"attributes\":{\"num_minor_ticks\":10},\"id\":\"1816\",\"type\":\"LogTicker\"},{\"attributes\":{},\"id\":\"1808\",\"type\":\"LogScale\"},{\"attributes\":{\"plot\":null,\"text\":\"\",\"text_color\":{\"value\":\"black\"},\"text_font_size\":{\"value\":\"12pt\"}},\"id\":\"1801\",\"type\":\"Title\"},{\"attributes\":{\"line_color\":\"#30a2da\",\"line_width\":2,\"x\":{\"field\":\"index\"},\"y\":{\"field\":\"f(x_itr)-f(x_prime)\"}},\"id\":\"1835\",\"type\":\"Line\"},{\"attributes\":{\"grid_line_color\":{\"value\":null},\"plot\":{\"id\":\"1802\",\"subtype\":\"Figure\",\"type\":\"Plot\"},\"ticker\":{\"id\":\"1811\",\"type\":\"BasicTicker\"}},\"id\":\"1814\",\"type\":\"Grid\"},{\"attributes\":{\"active_drag\":\"auto\",\"active_inspect\":\"auto\",\"active_multi\":null,\"active_scroll\":\"auto\",\"active_tap\":\"auto\",\"tools\":[{\"id\":\"1820\",\"type\":\"SaveTool\"},{\"id\":\"1821\",\"type\":\"PanTool\"},{\"id\":\"1822\",\"type\":\"WheelZoomTool\"},{\"id\":\"1823\",\"type\":\"BoxZoomTool\"},{\"id\":\"1824\",\"type\":\"ResetTool\"}]},\"id\":\"1825\",\"type\":\"Toolbar\"},{\"attributes\":{},\"id\":\"1811\",\"type\":\"BasicTicker\"},{\"attributes\":{\"ticker\":null},\"id\":\"1843\",\"type\":\"LogTickFormatter\"},{\"attributes\":{\"source\":{\"id\":\"1833\",\"type\":\"ColumnDataSource\"}},\"id\":\"1839\",\"type\":\"CDSView\"},{\"attributes\":{\"line_alpha\":0.1,\"line_color\":\"#30a2da\",\"line_width\":2,\"x\":{\"field\":\"index\"},\"y\":{\"field\":\"f(x_itr)-f(x_prime)\"}},\"id\":\"1836\",\"type\":\"Line\"},{\"attributes\":{\"axis_label\":\"index\",\"bounds\":\"auto\",\"formatter\":{\"id\":\"1841\",\"type\":\"BasicTickFormatter\"},\"major_label_orientation\":\"horizontal\",\"plot\":{\"id\":\"1802\",\"subtype\":\"Figure\",\"type\":\"Plot\"},\"ticker\":{\"id\":\"1811\",\"type\":\"BasicTicker\"}},\"id\":\"1810\",\"type\":\"LinearAxis\"},{\"attributes\":{\"axis_label\":\"f(x_itr)-f(x_prime)\",\"bounds\":\"auto\",\"formatter\":{\"id\":\"1843\",\"type\":\"LogTickFormatter\"},\"major_label_orientation\":\"horizontal\",\"plot\":{\"id\":\"1802\",\"subtype\":\"Figure\",\"type\":\"Plot\"},\"ticker\":{\"id\":\"1816\",\"type\":\"LogTicker\"}},\"id\":\"1815\",\"type\":\"LogAxis\"},{\"attributes\":{},\"id\":\"1824\",\"type\":\"ResetTool\"},{\"attributes\":{},\"id\":\"1841\",\"type\":\"BasicTickFormatter\"},{\"attributes\":{},\"id\":\"1850\",\"type\":\"UnionRenderers\"},{\"attributes\":{},\"id\":\"1806\",\"type\":\"LinearScale\"},{\"attributes\":{},\"id\":\"1821\",\"type\":\"PanTool\"},{\"attributes\":{},\"id\":\"1822\",\"type\":\"WheelZoomTool\"},{\"attributes\":{\"dimension\":1,\"grid_line_color\":{\"value\":null},\"plot\":{\"id\":\"1802\",\"subtype\":\"Figure\",\"type\":\"Plot\"},\"ticker\":{\"id\":\"1816\",\"type\":\"LogTicker\"}},\"id\":\"1819\",\"type\":\"Grid\"},{\"attributes\":{\"callback\":null,\"end\":186.20719170576498,\"reset_end\":186.20719170576498,\"reset_start\":1.8620719170576505,\"start\":1.8620719170576505},\"id\":\"1800\",\"type\":\"Range1d\"},{\"attributes\":{\"callback\":null,\"end\":9,\"reset_end\":9,\"reset_start\":0},\"id\":\"1799\",\"type\":\"Range1d\"},{\"attributes\":{},\"id\":\"1849\",\"type\":\"Selection\"},{\"attributes\":{\"bottom_units\":\"screen\",\"fill_alpha\":{\"value\":0.5},\"fill_color\":{\"value\":\"lightgrey\"},\"left_units\":\"screen\",\"level\":\"overlay\",\"line_alpha\":{\"value\":1.0},\"line_color\":{\"value\":\"black\"},\"line_dash\":[4,4],\"line_width\":{\"value\":2},\"plot\":null,\"render_mode\":\"css\",\"right_units\":\"screen\",\"top_units\":\"screen\"},\"id\":\"1828\",\"type\":\"BoxAnnotation\"},{\"attributes\":{\"line_alpha\":0.2,\"line_color\":\"#30a2da\",\"line_width\":2,\"x\":{\"field\":\"index\"},\"y\":{\"field\":\"f(x_itr)-f(x_prime)\"}},\"id\":\"1837\",\"type\":\"Line\"},{\"attributes\":{\"callback\":null,\"data\":{\"f(x_itr)-f(x_prime)\":{\"__ndarray__\":\"awiAUKFGZ0BeRlz/bUZbQCAxAgtCgkJAEA/L9//DKEBAjWh+OZ0BQADZIkVY3OY/APATWMzvxj8AIASd2TaRPwAAIBrnzCg/AAAAAAAAAAA=\",\"dtype\":\"float64\",\"shape\":[10]},\"index\":[0,1,2,3,4,5,6,7,8,9]},\"selected\":{\"id\":\"1849\",\"type\":\"Selection\"},\"selection_policy\":{\"id\":\"1850\",\"type\":\"UnionRenderers\"}},\"id\":\"1833\",\"type\":\"ColumnDataSource\"},{\"attributes\":{},\"id\":\"1820\",\"type\":\"SaveTool\"},{\"attributes\":{\"overlay\":{\"id\":\"1828\",\"type\":\"BoxAnnotation\"}},\"id\":\"1823\",\"type\":\"BoxZoomTool\"},{\"attributes\":{\"data_source\":{\"id\":\"1833\",\"type\":\"ColumnDataSource\"},\"glyph\":{\"id\":\"1835\",\"type\":\"Line\"},\"hover_glyph\":null,\"muted_glyph\":{\"id\":\"1837\",\"type\":\"Line\"},\"nonselection_glyph\":{\"id\":\"1836\",\"type\":\"Line\"},\"selection_glyph\":null,\"view\":{\"id\":\"1839\",\"type\":\"CDSView\"}},\"id\":\"1838\",\"type\":\"GlyphRenderer\"}],\"root_ids\":[\"1802\"]},\"title\":\"Bokeh Application\",\"version\":\"1.0.2\"}};\n",
       "  var render_items = [{\"docid\":\"a5a796f3-6f93-4ab8-ba9d-b4bbf0daef0c\",\"roots\":{\"1802\":\"b59419b8-97ae-40d1-b238-704238e2b636\"}}];\n",
       "  root.Bokeh.embed.embed_items_notebook(docs_json, render_items);\n",
       "\n",
       "  }\n",
       "  if (root.Bokeh !== undefined) {\n",
       "    embed_document(root);\n",
       "  } else {\n",
       "    var attempts = 0;\n",
       "    var timer = setInterval(function(root) {\n",
       "      if (root.Bokeh !== undefined) {\n",
       "        embed_document(root);\n",
       "        clearInterval(timer);\n",
       "      }\n",
       "      attempts++;\n",
       "      if (attempts > 100) {\n",
       "        console.log(\"Bokeh: ERROR: Unable to run BokehJS code because BokehJS library is missing\");\n",
       "        clearInterval(timer);\n",
       "      }\n",
       "    }, 10, root)\n",
       "  }\n",
       "})(window);"
      ],
      "application/vnd.holoviews_exec.v0+json": "",
      "text/html": [
       "<div id='1802' style='display: table; margin: 0 auto;'>\n",
       "\n",
       "\n",
       "\n",
       "\n",
       "\n",
       "  <div class=\"bk-root\" id=\"b59419b8-97ae-40d1-b238-704238e2b636\"></div>\n",
       "</div>"
      ],
      "text/plain": [
       ":Curve   [index]   (f(x_itr)-f(x_prime))"
      ]
     },
     "execution_count": 82,
     "metadata": {
      "application/vnd.holoviews_exec.v0+json": {
       "id": "1802"
      }
     },
     "output_type": "execute_result"
    }
   ],
   "source": [
    "to_show=pd.DataFrame(x_hist - x_hist[-1],columns=[\"f(x_itr)-f(x_prime)\"])\n",
    "hv.Curve(to_show).options(width=800,logy=True)"
   ]
  },
  {
   "cell_type": "markdown",
   "metadata": {
    "pycharm": {}
   },
   "source": [
    "# Q2 -  Efficient solution of basic portfolio optimization problem\n",
    "\n",
    "see [this link](https://nbviewer.jupyter.org/github/cvxgrp/cvx_short_course/blob/master/applications/portfolio_optimization.ipynb) for more info\n",
    "\n",
    "This problem concerns the simplest possible portfolio optimization problem: \\begin{array}{ll}\\mbox{maximize} \\ \\  \\mu^T w - (\\lambda/2) w^T \\Sigma w\\\\\\mbox{subject to} \\ \\    \\mathbf{1}^T w = 1,\\end{array}\n",
    "  \n",
    "with variable $\\in \\mathbf{R}^n$ (the normalized portfolio, with negative entries meaning short positions), and data $\\mu$ (mean return), $\\Sigma \\in \\mathbf{S}_{++}^n$ (return covariance), and $\\lambda $ (the risk aversion parameter). \n",
    "\n",
    "The return covariance has the factor form $\\Sigma = FQF^T + D$, where $F\\in \\mathbf{R}^{n \\times k}$ (with rank $K$) is the  factor loading matrix, $Q \\in \\mathbf{S}_{++}^k$ is the factor covariance matrix, and $D$ is a diagonal matrix with positive entries, called the  idiosyncratic risk (since it describes the risk of each asset that is independent of the factors). This form for $\\Sigma$ is referred to as a  ;#39;$k$-factor risk model ;#39;. Some typical dimensions are $n=2500$ (assets) and $k=30$\n",
    "\n",
    "Some basic definitions\n",
    "\n",
    "- **$\\lambda$ risk aversion**-  the behavior of humans (especially consumers and investors), who, when exposed to uncertainty, attempt to lower that uncertainty"
   ]
  },
  {
   "cell_type": "markdown",
   "metadata": {
    "pycharm": {}
   },
   "source": [
    "#### (a) \n",
    "What is the flop count for computing the optimal portfolio, if the low-rank plus diagonal structure of $\\Sigma$ is not exploited? You can assume that $\\lambda=1$ (which can be arranged by absorbing it into $\\Sigma$)."
   ]
  },
  {
   "cell_type": "markdown",
   "metadata": {
    "pycharm": {}
   },
   "source": [
    "**Solution** - This equality constrained problem can be solved with simple linear equation of the KKT matrix (see Equality constrained minimization 11-3).The KKT matrix is $\\Sigma\\in R^{n\\times n}$ and $\\mathbf{1}\\in R^n$.\n",
    "Thus we have square $(n+1)\\times(n+1)$ matrix with $n\\times n$ zero block.Accordig to solving with structured sub blocks (using Shur's comp.) we do 1 $\\Sigma$ inversion which dominants the computation . The symmatric $\\Sigma$ factorization is $(1/3)n^3$ (Cholesky)\n",
    "\n"
   ]
  },
  {
   "cell_type": "markdown",
   "metadata": {
    "pycharm": {}
   },
   "source": [
    "#### (b)\n",
    "Explain how to compute the optimal portfolio more efficiently, and give the flop\n",
    "count for your method. You can assume that k ≪ n. You do not have to give the\n",
    "best method; any method that has linear complexity in n is fine. You can assume\n",
    "that λ = 1.\n",
    "\n",
    "\n",
    "Hints. You may want to introduce a new variable $y = F^T w$ (which is called the\n",
    "vector of factor exposures). You may want to work with the matrix"
   ]
  },
  {
   "cell_type": "markdown",
   "metadata": {
    "pycharm": {}
   },
   "source": [
    "**Solution** - see solutions. In general do variable change with y and build KKT matrix for new problem (do not forget to differentiate by $w$ and by $y$). After that use the method of solving equations with sub block (9-12 in slides) to factor+solve A11 and to form $S$ ($S = A_{22} - A_{21}A_{11}^{-1}A_{21}$) and compute the flop count giving the diagonal structure of $D$ and special sparse structure of $A_{11}$"
   ]
  },
  {
   "cell_type": "markdown",
   "metadata": {
    "heading_collapsed": true,
    "pycharm": {}
   },
   "source": [
    "# Q3 - Sizing a gravity feed water supply network\n",
    "A water supply network connects water supplies (such as reservoirs) to consumers via a network of pipes. Water flow in the network is due to gravity (as opposed to pumps, which could also be added to the formulation). The network is composed of a set of $n$ nodes and $m$ directed edges between pairs of nodes. The first $k$ nodes are supply or reservoir nodes, and the remaining $n-k$ are consumer nodes. The edges correspond to the pipes in the water supply network. \n",
    "\n",
    " We let   $f_j \\geq 0$ denote the water flow in pipe (edge) $j$ , and $h_i$ denote the (known) altitude or height of node $i$ (say, above sea level). At nodes $i=1, \\ldots, k$ , we let $s_i \\geq 0$ denote the flow into the network from the supply. For $i=1, \\ldots, n-k$ , we let $c_i \\geq 0$ denote the water flow taken out of the network (by consumers) at node $k+i$ . Conservation of flow can be expressed as \n",
    " $A f = \\left[ \\begin{array}{c} -s \\\\ c \\end{array}\\right],$ \n",
    " where $A \\in \\mathbf{R} ^{n \\times m}$ is the incidence matrix for the supply network, given by \n",
    " $A_{ij} = \\left\\{ \\begin{array}{ll}-1   \\mbox{if edge $j$ leaves node $i$ }\\\\+1   \\mbox{if edge $j$ enters node $i$ }\\\\0   \\mbox{otherwise}.\\end{array}\\right.$ \n",
    " \n",
    " We assume that each edge is oriented from a node of higher altitude to a node of lower altitude; if edge $j$ goes from node $i$ to node $l$ , we have $h_i ;amp;gt; h_l$ . The pipe flows are determined by \n",
    " $f_j = \\frac{\\alpha \\theta_j R_j^2(h_i-h_l)}{L_j},$ \n",
    " where edge $j$ goes from node $i$ to node $l$ , $\\alpha$ is a known constant, $L_j$ is the (known) length of pipe $j$ , $R_j$ is the radius of pipe $j$ , and $\\theta_j \\in [0,1]$ corresponds to the valve opening in pipe $j$ . \n",
    "\n",
    " Finally, we have a few more constraints. The supply feed rates are limited: we have $s_i \\leq S^\\mathrm{max}_i$ .  The pipe radii are limited: we have $R^\\mathrm{min}_j \\leq R_j \\leq R^\\mathrm{max}_j$ . (These limits are all known.) \n",
    "\n",
    "(a) Supportable consumption vectors. Suppose that the pipe radii are fixed and known.\n",
    " We say that $c \\in \\mathbf{R}^{n-k}_+$  is supportable if there is a choice of $f, s$ and $\\theta$ for which all constraints and conditions above \n",
    " are satisfied. Show that the set of supportable consumption vectors is a polyhedron, and explain how to determine whether or not a given consumption\n",
    " vector is supportable."
   ]
  },
  {
   "cell_type": "markdown",
   "metadata": {
    "pycharm": {
     "metadata": false,
     "name": "#%% md\n"
    }
   },
   "source": [
    "**Solution** - see pdf solution"
   ]
  },
  {
   "cell_type": "markdown",
   "metadata": {
    "pycharm": {
     "metadata": false,
     "name": "#%% md\n"
    }
   },
   "source": [
    "(b) Optimal pipe sizing. You must select the pipe radii $R_j$ to minimize the cost, \n",
    "which we take to be (proportional to) the total volume of the pipes, $L_1 R_1^2 + \\cdots + L_m R_m^2$,\n",
    "subject to being able to support a set of consumption vectors, denoted $c^{(1)},\n",
    "\\ldots, c^{(N)}$, which we refer to as consumption scenarios. \n",
    "(This means that any consumption vector in the convex hull of $\\{ c^{(1)}, \\ldots,\n",
    "c^{(N)} \\}$ will be supportable.) Show how to formulate this as a convex optimization problem. \n",
    "Note. You are asked to choose one set of pipe radii, and $N$ sets of valve parameters, \n",
    "flow vectors, and source vectors; one for each consumption scenario"
   ]
  },
  {
   "cell_type": "markdown",
   "metadata": {
    "pycharm": {
     "metadata": false
    }
   },
   "source": [
    "**Solution** - see pdf solution"
   ]
  },
  {
   "cell_type": "markdown",
   "metadata": {
    "pycharm": {
     "metadata": false
    }
   },
   "source": [
    "(c) Solve the instance of the optimal pipe sizing problem with data defined in the file \n",
    "`grav_feed_network_data.m`\n",
    ", and report the optimal value and the optimal pipe radii. The columns of the matrix $C$ in \n",
    "the data file are the consumption vectors $c^{(1)}, \\ldots, c^{(N)}$./p;gt;\n",
    "\n",
    "Hint. $-A^Th$ gives a vector containing the height differences across the edges./p;gt;\n"
   ]
  },
  {
   "cell_type": "code",
   "execution_count": 49,
   "metadata": {
    "pycharm": {
     "is_executing": false,
     "metadata": false,
     "name": "#%%\n"
    }
   },
   "outputs": [],
   "source": [
    "from HW9.hw9_script import syntesize_waterflow_data\n",
    "alpha, Rmin, Rmax, Smax, C, L, h, A \\\n",
    "    ,num_nodes, num_edge, num_producers, num_scenarios = syntesize_waterflow_data()"
   ]
  },
  {
   "cell_type": "code",
   "execution_count": 53,
   "metadata": {
    "pycharm": {
     "is_executing": false,
     "metadata": false,
     "name": "#%%\n"
    }
   },
   "outputs": [
    {
     "name": "stdout",
     "output_type": "stream",
     "text": [
      "optimal solution is: \t325.7324913202739\n",
      "the optimal radii are\n",
      "[[0.49995483]\n",
      " [0.49993996]\n",
      " [2.49994657]\n",
      " [1.26322581]\n",
      " [0.50000625]\n",
      " [0.50013088]\n",
      " [2.42326139]\n",
      " [0.50028859]\n",
      " [0.50013059]\n",
      " [1.48825565]\n",
      " [2.30380352]\n",
      " [2.49999097]\n",
      " [0.49999085]\n",
      " [0.50002034]\n",
      " [0.50007257]\n",
      " [1.83098284]\n",
      " [1.16369157]\n",
      " [2.04115054]\n",
      " [1.72240327]\n",
      " [0.49991327]]\n"
     ]
    }
   ],
   "source": [
    "z = cvx.Variable(shape = (num_edge,1), nonneg=True)\n",
    "s = cvx.Variable(shape = (num_producers,num_scenarios),nonneg=True)\n",
    "f = cvx.Variable(shape = (num_edge,num_scenarios),nonneg=True)\n",
    "D1 = alpha * np.diag(-A.T.dot(h).flatten()) * np.diag(1/L.flatten())   \n",
    "\n",
    "obj_func = cvx.Minimize(L.T * z)\n",
    "\n",
    "constraints = [\n",
    "    z >= Rmin**2,\n",
    "    z <= Rmax**2,\n",
    "]\n",
    "\n",
    "loop_const = []\n",
    "for k in range(num_scenarios):\n",
    "    loop_const += [f[:,k] <= (D1*z).flatten()]\n",
    "    loop_const += [A * f[:,k] == cvx.hstack([-s[:,k], C[:,k]])]\n",
    "    loop_const += [s[:,k] <= Smax.flatten()]\n",
    "constraints += loop_const \n",
    "prob = cvx.Problem(obj_func ,constraints)\n",
    "sol = prob.solve(cvx.SCS)\n",
    "print(f\"optimal solution is: \\t{sol}\")\n",
    "print(f\"the optimal radii are\\n{np.sqrt(z.value)}\")\n"
   ]
  },
  {
   "cell_type": "markdown",
   "metadata": {
    "pycharm": {
     "metadata": false
    }
   },
   "source": [
    "# Question 3 -Flux\n",
    "```\n",
    "M1\tM2\tM3\tM4\tM5\tM6\n",
    "[-1, 1, 0, 0, 0, 0],  # R2:  M1 -->  M2\n",
    "[-1, 0, 1, 0, 0, 0],  # R3:  M1 -->  M3\n",
    "[0, -1, 0, 2, -1, 0],  # R4:  M2 + M5 --> 2 M4\n",
    "[0, 0, 0, 0, 1, 0],  # R5:  extracellular -->  M5\n",
    "[0, -2, 1, 0, 0, 1],  # R6:  2 M2 -->  M3 + M6\n",
    "[0, 0, -1, 1, 0, 0],  # R7:  M3 -->  M4\n",
    "[0, 0, 0, 0, 0, -1],  # R8:  M6 --> extracellular\n",
    "[0, 0, 0, -1, 0, 0],  # R9:  M4 --> cell biomass\n",
    "\n",
    "vmax = np.array([\n",
    "    10.10,  # R1:  extracellular -->  M1\n",
    "    100,  # R2:  M1 -->  M2\n",
    "    5.90,  # R3:  M1 -->  M3\n",
    "    100,  # R4:  M2 + M5 --> 2 M4\n",
    "    3.70,  # R5:  extracellular -->  M5\n",
    "    100,  # R6:  2 M2 --> M3 + M6\n",
    "    100,  # R7:  M3 -->  M4\n",
    "    100,  # R8:  M6 -->  extracellular\n",
    "    100,  # R9:  M4 -->  cell biomass\n",
    "])\n",
    "```"
   ]
  },
  {
   "cell_type": "markdown",
   "metadata": {
    "pycharm": {
     "metadata": false,
     "name": "#%% md\n"
    }
   },
   "source": [
    "(a) What the maximum possible cell growth rate $v_n$?"
   ]
  },
  {
   "cell_type": "code",
   "execution_count": 280,
   "metadata": {
    "pycharm": {
     "is_executing": false,
     "metadata": false,
     "name": "#%%\n"
    }
   },
   "outputs": [],
   "source": [
    "from HW9.hw9_script import synt_flux_fba_data\n",
    "S, vmax, m, n = synt_flux_fba_data()"
   ]
  },
  {
   "cell_type": "code",
   "execution_count": 313,
   "metadata": {
    "pycharm": {
     "is_executing": false,
     "metadata": false,
     "name": "#%%\n"
    }
   },
   "outputs": [],
   "source": [
    "v = cvx.Variable(shape = (n,1), nonneg=True)\n",
    "n_indicator = np.zeros(shape=(n,1))\n",
    "n_indicator[-1] = 1\n",
    "obj_func = cvx.Maximize(n_indicator.T * v)\n",
    "constraints = [\n",
    "    S * v == 0,\n",
    "    v <= vmax[:,None]\n",
    "] \n",
    "prob = cvx.Problem(obj_func ,constraints)\n",
    "G_star = prob.solve()"
   ]
  },
  {
   "cell_type": "code",
   "execution_count": 312,
   "metadata": {
    "pycharm": {
     "is_executing": false,
     "metadata": false,
     "name": "#%%\n"
    }
   },
   "outputs": [
    {
     "name": "stdout",
     "output_type": "stream",
     "text": [
      "maximum possible growth rate is - 13.55\n",
      "reaction rate limits have nonzero optimal Lagrange -[1 3 5]\n",
      "reaction rate limits is the maximum growth rate most sensitive to -9\n"
     ]
    },
    {
     "data": {
      "text/plain": [
       "array([[10.1 ],\n",
       "       [ 4.2 ],\n",
       "       [ 5.9 ],\n",
       "       [ 3.7 ],\n",
       "       [ 3.7 ],\n",
       "       [ 0.25],\n",
       "       [ 6.15],\n",
       "       [ 0.25],\n",
       "       [13.55]])"
      ]
     },
     "execution_count": 312,
     "metadata": {},
     "output_type": "execute_result"
    }
   ],
   "source": [
    "print(f\"maximum possible growth rate is - {v.value[-1][0]}\")\n",
    "print(f\"reaction rate limits have nonzero optimal Lagrange -{np.argwhere(constraints[1].dual_value>0)[:,0]+1}\")\n",
    "print(f\"reaction rate limits is \"\n",
    "      f\"the maximum growth rate most sensitive to - {np.argmax(v.value)+1}\")"
   ]
  },
  {
   "cell_type": "markdown",
   "metadata": {
    "pycharm": {
     "metadata": false
    }
   },
   "source": [
    "(b) Essential genes and synthetic lethals"
   ]
  },
  {
   "cell_type": "code",
   "execution_count": 317,
   "metadata": {
    "pycharm": {
     "is_executing": false,
     "metadata": false,
     "name": "#%%\n"
    }
   },
   "outputs": [
    {
     "name": "stdout",
     "output_type": "stream",
     "text": [
      "1 is essential, as growth rate is 3.87257305167379e-08\n",
      "9 is essential, as growth rate is -5.92750163017553e-11\n"
     ]
    }
   ],
   "source": [
    "\n",
    "G_min = 0.2 * G_star\n",
    "\n",
    "def is_essential(vmx, n=n, thresh=G_min, S=S):\n",
    "    v = cvx.Variable(shape = (n,1), nonneg=True)\n",
    "    n_indicator = np.zeros(shape=(n,1))\n",
    "    n_indicator[-1] = 1\n",
    "    obj_func = cvx.Maximize(n_indicator.T * v)\n",
    "    constraints = [S * v == 0, v <= vmx[:,None]]\n",
    "    prob = cvx.Problem(obj_func ,constraints)\n",
    "    growth_rate = prob.solve()\n",
    "    return growth_rate < thresh, growth_rate\n",
    "    \n",
    "for k in range(n):\n",
    "    vm = vmax.copy()\n",
    "    vm[k] = 0\n",
    "    is_essential_flag ,gr = is_essential(vm, n, G_min)\n",
    "    if is_essential_flag:\n",
    "        print(f\"{k+1} is essential, as growth rate is {gr}\")\n",
    "        "
   ]
  },
  {
   "cell_type": "code",
   "execution_count": 345,
   "metadata": {
    "pycharm": {
     "is_executing": false,
     "metadata": false,
     "name": "#%%\n"
    }
   },
   "outputs": [
    {
     "name": "stdout",
     "output_type": "stream",
     "text": [
      "(3, 2) is lethal, as growth rate is 1.7170833902996194e-07\n",
      "(7, 4) is lethal, as growth rate is -2.202849729803492e-07\n",
      "(7, 5) is lethal, as growth rate is 2.7966028215761544e-07\n",
      "(7, 2) is lethal, as growth rate is 1.5123026023017178e-08\n"
     ]
    }
   ],
   "source": [
    "non_essential = np.arange(1,8)\n",
    "X,Y = np.meshgrid(non_essential,non_essential)\n",
    "possible_synt_lethal_pairs = zip(X.flatten(),Y.flatten())\n",
    "possible_synt_lethal_pairs  = set([(x,y) if x>y else (y,x) \n",
    "     for x,y in filter(lambda x: x[0] != x[1],possible_synt_lethal_pairs)])\n",
    "\n",
    "for cand in possible_synt_lethal_pairs:  \n",
    "    vm = vmax.copy()\n",
    "    vm[cand[0]] = 0; vm[cand[1]] = 0\n",
    "    is_essential_flag ,gr = is_essential(vm, n, G_min)\n",
    "    if is_essential_flag:\n",
    "        print(f\"{(cand[0]+1,cand[1]+1)} is lethal, as growth rate is {gr}\")\n",
    "\n"
   ]
  },
  {
   "cell_type": "markdown",
   "metadata": {
    "pycharm": {
     "metadata": false,
     "name": "#%% md\n"
    }
   },
   "source": [
    "# Question 4\n",
    "```\n",
    "n := number of ads\n",
    "m := number of contracts\n",
    "T := number of periods\n",
    "I := number of impressions in each period (dim = T X 1)\n",
    "R := revenue rate for each period and ad (dim = n X T)\n",
    "q := contract target number of impressions\n",
    "p := penalty rate for shortfall\n",
    "```\n",
    "    "
   ]
  },
  {
   "cell_type": "code",
   "execution_count": 83,
   "metadata": {
    "pycharm": {
     "is_executing": false,
     "metadata": false,
     "name": "#%%\n"
    }
   },
   "outputs": [
    {
     "name": "stdout",
     "output_type": "stream",
     "text": [
      "fdsfas\n"
     ]
    }
   ],
   "source": [
    "from HW9.hw9_script import synt_online_ad_displays\n",
    "Acontr, Tcontr, I, R, q, p, n, m, T\\\n",
    "    = synt_online_ad_displays()"
   ]
  },
  {
   "cell_type": "code",
   "execution_count": 230,
   "metadata": {
    "pycharm": {
     "is_executing": false,
     "metadata": false,
     "name": "#%%\n"
    }
   },
   "outputs": [],
   "source": [
    "N = cvx.Variable(shape = (n,T))\n",
    "s = cvx.Variable(shape = (m,1))\n",
    "total_rev = R.flatten() * N.flatten()\n",
    "total_penalty = p.T * s\n",
    "obj_func = cvx.Maximize(total_rev - total_penalty )\n",
    "constraints = [\n",
    "    N >= 0,\n",
    "    cvx.sum(N,axis=0)[:,None] == I,\n",
    "    s == q - cvx.diag(Acontr.T * N * Tcontr)[:,None]\n",
    "] \n",
    "prob = cvx.Problem(obj_func ,constraints)\n",
    "sol = prob.solve()"
   ]
  },
  {
   "cell_type": "code",
   "execution_count": 215,
   "metadata": {
    "pycharm": {
     "is_executing": false,
     "metadata": false,
     "name": "#%%\n"
    }
   },
   "outputs": [
    {
     "name": "stdout",
     "output_type": "stream",
     "text": [
      "What is the revenue associated with the optimal net profit\n",
      "ans:\t332.55361124213516\n",
      "\n",
      "What is the total revenue payment associated with the optimal net profit?\n",
      "ans:\t275.7581547672403\n",
      "\n",
      "What is the total penalty payment associated with the optimal net profit?\n",
      "ans:\t-56.7954564748939\n",
      "\n"
     ]
    }
   ],
   "source": [
    "print(\"What is the revenue associated with the optimal net profit\")\n",
    "print(f\"ans:\\t{sol}\\n\")\n",
    "print(\"What is the total revenue payment associated with the optimal net profit?\")\n",
    "print(f\"ans:\\t{total_rev.value}\\n\")\n",
    "print(\"What is the total penalty payment associated with the optimal net profit?\")\n",
    "print(f\"ans:\\t{total_penalty.value[0][0]}\\n\")"
   ]
  },
  {
   "cell_type": "code",
   "execution_count": 252,
   "metadata": {
    "pycharm": {
     "is_executing": false,
     "metadata": false,
     "name": "#%%\n"
    }
   },
   "outputs": [
    {
     "data": {
      "text/plain": [
       "Expression(AFFINE, UNKNOWN, ())"
      ]
     },
     "execution_count": 252,
     "metadata": {},
     "output_type": "execute_result"
    }
   ],
   "source": [
    "max_rev_ind = np.argmax(R, axis=0)\n",
    "R[max_rev_ind,range(T)]\n",
    "total_rev = R[max_rev_ind,range(T)] * N\n",
    "total_rev"
   ]
  },
  {
   "cell_type": "code",
   "execution_count": 258,
   "metadata": {
    "pycharm": {
     "is_executing": false,
     "metadata": false,
     "name": "#%%\n"
    }
   },
   "outputs": [],
   "source": [
    "# max_rev_ind = np.argmax(R, axis=0)\n",
    "# N = cvx.Variable(shape = (T))\n",
    "# total_rev = R[max_rev_ind,range(T)] * N\n",
    "\n",
    "N = cvx.Variable(shape = (n, T))\n",
    "total_rev = R.flatten() * N.flatten()\n",
    "obj_func = cvx.Maximize(total_rev)\n",
    "constraints = [\n",
    "    N >= 0,\n",
    "    cvx.sum(N,axis=0)[:,None] == I,\n",
    "    # s == q - (N * Tcontr)[:,None]\n",
    "] \n",
    "prob = cvx.Problem(obj_func ,constraints)\n",
    "sol = prob.solve()"
   ]
  },
  {
   "cell_type": "code",
   "execution_count": 279,
   "metadata": {
    "pycharm": {
     "is_executing": false,
     "metadata": false,
     "name": "#%%\n"
    }
   },
   "outputs": [
    {
     "name": "stdout",
     "output_type": "stream",
     "text": [
      "What is the net profit if we were to display only the ad with the largest revenue per impression?\n",
      "ans:\t134.47338624108434\n",
      "\n",
      "What is the revenue if we were to display only the ad with the largest revenue per impression?\n",
      "ans:\t306.42867440034934\n",
      "\n",
      "What is the total penalty if we were to display only the ad with the largest revenue per impression?\n",
      "ans:\t171.955288159265\n",
      "\n"
     ]
    }
   ],
   "source": [
    "greedy_shortfall = q - cvx.diag(Acontr.T * N * Tcontr)[:,None]\n",
    "greedy_profit = sol - p.T.dot(greedy_shortfall.value)\n",
    "greedy_profit \n",
    "# greedy_revenue = cvx_optval;\n",
    "\n",
    "print(\"What is the net profit if we were to display only the ad with the largest revenue per impression?\")\n",
    "print(f\"ans:\\t{greedy_profit[0][0]}\\n\")\n",
    "print(\"What is the revenue if we were to display only the ad with the largest revenue per impression?\")\n",
    "print(f\"ans:\\t{sol}\\n\")\n",
    "print(\"What is the total penalty if we were to display only the ad with the largest revenue per impression?\")\n",
    "print(f\"ans:\\t{p.T.dot(greedy_shortfall.value)[0][0]}\\n\")"
   ]
  },
  {
   "cell_type": "code",
   "execution_count": 279,
   "metadata": {
    "pycharm": {
     "is_executing": false,
     "metadata": false,
     "name": "#%%\n"
    }
   },
   "outputs": [],
   "source": [
    "\n"
   ]
  },
  {
   "cell_type": "markdown",
   "metadata": {
    "pycharm": {
     "metadata": false
    }
   },
   "source": [
    "# Question 5 - Ranking by aggregating preferences\n",
    "    "
   ]
  },
  {
   "cell_type": "code",
   "execution_count": 358,
   "metadata": {
    "pycharm": {
     "is_executing": false,
     "metadata": false,
     "name": "#%%\n"
    }
   },
   "outputs": [],
   "source": [
    "from HW9.hw9_script import synt_rank_aggr_data\n",
    "preferences, n, m = synt_rank_aggr_data()"
   ]
  },
  {
   "cell_type": "code",
   "execution_count": 416,
   "metadata": {
    "pycharm": {
     "is_executing": false,
     "metadata": false,
     "name": "#%%\n"
    }
   },
   "outputs": [
    {
     "data": {
      "text/plain": [
       "387.00357622994227"
      ]
     },
     "execution_count": 416,
     "metadata": {},
     "output_type": "execute_result"
    }
   ],
   "source": [
    "mode = 'scenario_b'\n",
    "r = cvx.Variable(shape = (n,1))\n",
    "v = r[preferences[:,1]] + 1 - r[preferences[:,0]]\n",
    "# v == r[preferences[:,1]] + 1 - r[preferences[:,0]] \n",
    "pref_violation = cvx.pos(v) # shape 1000X1\n",
    "cost = cvx.sum_squares(pref_violation) if mode == 'scenario_a'\\\n",
    "    else cvx.sum(pref_violation) \n",
    "obj_func = cvx.Minimize(cost)\n",
    "constraints = [\n",
    "] \n",
    "prob = cvx.Problem(obj_func ,constraints)\n",
    "sol = prob.solve()\n",
    "sol "
   ]
  },
  {
   "cell_type": "code",
   "execution_count": 415,
   "metadata": {
    "pycharm": {
     "is_executing": false,
     "metadata": false,
     "name": "#%%\n"
    }
   },
   "outputs": [
    {
     "data": {
      "image/png": "[encoded data removed]",
      "text/plain": [
       "<matplotlib.figure.Figure at 0x7f62e80a4518>"
      ]
     },
     "metadata": {},
     "output_type": "display_data"
    },
    {
     "name": "stdout",
     "output_type": "stream",
     "text": [
      "num of positive violations 781\n"
     ]
    }
   ],
   "source": [
    "ax = plt.gca()\n",
    "pd.Series(np.squeeze(pref_violation.value)).hist(ax=ax,bins=10)\n",
    "ax.set_title(\"histogram with sum squares violations\")\n",
    "plt.show()\n",
    "print(f\"num of positive violations {(v.value > 0.001).sum()}\")"
   ]
  },
  {
   "cell_type": "code",
   "execution_count": 417,
   "metadata": {
    "pycharm": {
     "is_executing": false,
     "metadata": false,
     "name": "#%%\n"
    }
   },
   "outputs": [
    {
     "data": {
      "image/png": "[encoded data removed]",
      "text/plain": [
       "<matplotlib.figure.Figure at 0x7f62e8191e10>"
      ]
     },
     "metadata": {},
     "output_type": "display_data"
    },
    {
     "name": "stdout",
     "output_type": "stream",
     "text": [
      "num of positive violations 235\n"
     ]
    }
   ],
   "source": [
    "ax = plt.gca()\n",
    "pd.Series(np.squeeze(pref_violation.value)).hist(ax=ax, bins=10)\n",
    "ax.set_title(\"histogram with sum positive violations\")\n",
    "plt.show()\n",
    "print(f\"num of positive violations {(v.value > 0.001).sum()}\")"
   ]
  },
  {
   "cell_type": "markdown",
   "metadata": {
    "pycharm": {
     "metadata": false,
     "name": "#%% md\n"
    }
   },
   "source": [
    "You may see that as expected, violations in *sum squares* are being \n",
    "dumped pretty strong after $violation>2$ in contrast to the *sum pos* \n",
    "that has larger violations. Further we see that the number of violations\n",
    "in the *sum pos* case is significantly smaller.  "
   ]
  }
 ],
 "metadata": {
  "kernelspec": {
   "display_name": "Python 3",
   "language": "python",
   "name": "python3"
  },
  "language_info": {
   "codemirror_mode": {
    "name": "ipython",
    "version": 3
   },
   "file_extension": ".py",
   "mimetype": "text/x-python",
   "name": "python",
   "nbconvert_exporter": "python",
   "pygments_lexer": "ipython3",
   "version": "3.7.7"
  },
  "nbTranslate": {
   "displayLangs": [
    "*"
   ],
   "hotkey": "alt-t",
   "langInMainMenu": true,
   "sourceLang": "en",
   "targetLang": "fr",
   "useGoogleTranslate": true
  },
  "varInspector": {
   "cols": {
    "lenName": 16,
    "lenType": 16,
    "lenVar": 40
   },
   "kernels_config": {
    "python": {
     "delete_cmd_postfix": "",
     "delete_cmd_prefix": "del ",
     "library": "var_list.py",
     "varRefreshCmd": "print(var_dic_list())"
    },
    "r": {
     "delete_cmd_postfix": ") ",
     "delete_cmd_prefix": "rm(",
     "library": "var_list.r",
     "varRefreshCmd": "cat(var_dic_list()) "
    }
   },
   "types_to_exclude": [
    "module",
    "function",
    "builtin_function_or_method",
    "instance",
    "_Feature"
   ],
   "window_display": false
  }
 },
 "nbformat": 4,
 "nbformat_minor": 2
}
